{
 "cells": [
  {
   "cell_type": "code",
   "execution_count": 16,
   "metadata": {
    "id": "KbjwnKXU9TLM"
   },
   "outputs": [],
   "source": [
    "import numpy as np\n",
    "import os\n",
    "#from scipy.misc import imresize\n",
    "import imageio\n",
    "from PIL import Image\n",
    "from skimage.transform import resize\n",
    "import datetime\n",
    "import os\n",
    "#from google.colab import drive\n",
    "import warnings\n",
    "#ignore('warnings')\n",
    "warnings.filterwarnings('ignore')\n",
    "import cv2"
   ]
  },
  {
   "cell_type": "code",
   "execution_count": 17,
   "metadata": {
    "id": "w5m29_Oi9acy"
   },
   "outputs": [],
   "source": [
    "np.random.seed(30)\n",
    "import random as rn\n",
    "rn.seed(30)\n",
    "from keras import backend as K\n",
    "import tensorflow as tf\n",
    "#tf.set_random_seed(30)\n",
    "tf.random.set_seed(30)"
   ]
  },
  {
   "cell_type": "code",
   "execution_count": 18,
   "metadata": {
    "id": "7DrcWaFM9eld"
   },
   "outputs": [],
   "source": [
    "#drive.mount('/content/gdrive/')\n",
    "#!unzip /content/gdrive/My\\ Drive/DeepLearning/GestureRecog_CaseStudy/Project_data.zip\n"
   ]
  },
  {
   "cell_type": "code",
   "execution_count": 19,
   "metadata": {
    "id": "YOB1TAuI9jpW"
   },
   "outputs": [],
   "source": [
    "#/content/Project_data/train.csv\n",
    "#train_doc = np.random.permutation(open('/content/Project_data/train.csv').readlines())\n",
    "#val_doc = np.random.permutation(open('/content/Project_data/val.csv').readlines())\n",
    "#batch_size = #experiment with the batch size\n",
    "\n",
    "train_doc = np.random.permutation(open('/home/datasets/Project_data/train.csv').readlines())\n",
    "val_doc = np.random.permutation(open('/home/datasets/Project_data/val.csv').readlines())\n",
    "\n",
    "#train_doc = np.random.permutation(open('C:\\\\Users\\\\rajansa\\\\OneDrive - Lam Research\\\\QA Folder\\\\_myLearning\\\\DeepLearning\\\\Gesture_Recognition\\\\Project_data\\\\train.csv').readlines())\n",
    "#val_doc = np.random.permutation(open('C:\\\\Users\\\\rajansa\\\\OneDrive - Lam Research\\\\QA Folder\\\\_myLearning\\\\DeepLearning\\\\Gesture_Recognition\\\\Project_data\\\\val.csv').readlines())\n",
    "# batch_size = 8 #experiment with the batch size"
   ]
  },
  {
   "cell_type": "markdown",
   "metadata": {},
   "source": [
    "## Generator\n",
    "This is one of the most important part of the code. The overall structure of the generator has been given. In the generator, you are going to preprocess the images as you have images of 2 different dimensions as well as create a batch of video frames. You have to experiment with `img_idx`, `img_height`,`img_width` and normalization such that you get high accuracy."
   ]
  },
  {
   "cell_type": "code",
   "execution_count": 20,
   "metadata": {
    "id": "GbQT72PK9ncw"
   },
   "outputs": [],
   "source": [
    "def one_batch_data_generator(source_path, t, batch, batch_size, img_idx, img_height, img_width, augment):\n",
    "  batch_data = np.zeros((batch_size,len(img_idx),img_height,img_width,3)) # x is the number of images you use for each video, (y,z) is the final size of the input images and 3 is the number of channels RGB\n",
    "  batch_labels = np.zeros((batch_size,5)) # batch_labels is the one hot representation of the output\n",
    "\n",
    "  if augment:\n",
    "    batch_data_augment = np.zeros((batch_size,len(img_idx),img_height,img_width,3))\n",
    "\n",
    "  for folder in range(batch_size): # iterate over the batch_size\n",
    "    imgs = os.listdir(source_path+'/'+ t[folder + (batch*batch_size)].split(';')[0]) # read all the images in the folder\n",
    "    for idx,item in enumerate(img_idx): #  Iterate iver the frames/images of a folder to read them in\n",
    "        image = imageio.imread(source_path+'/'+ t[folder + (batch*batch_size)].strip().split(';')[0]+'/'+imgs[item]).astype(np.float32)\n",
    "        temp = cv2.resize(image,(img_width,img_height))\n",
    "        temp = temp/255 #Normalize data\n",
    "\n",
    "        batch_data[folder,idx,:,:,0] = (temp[:,:,0])  #feed in the image\n",
    "        batch_data[folder,idx,:,:,1] = (temp[:,:,1])  #feed in the image\n",
    "        batch_data[folder,idx,:,:,2] = (temp[:,:,2])  #feed in the image\n",
    "\n",
    "        if augment:\n",
    "          shifted = cv2.warpAffine(image, np.float32([[1, 0, np.random.randint(-30,30)],[0, 1, np.random.randint(-30,30)]]), (image.shape[1], image.shape[0]))\n",
    "\n",
    "          gray = cv2.cvtColor(shifted,cv2.COLOR_BGR2GRAY)\n",
    "\n",
    "          x0, y0 = np.argwhere(gray > 0).min(axis=0)\n",
    "          x1, y1 = np.argwhere(gray > 0).max(axis=0)\n",
    "\n",
    "          # cropping the images to have the targeted gestures and remove the noise from the images.\n",
    "          cropped=shifted[x0:x1,y0:y1,:]\n",
    "\n",
    "          temp=cv2.resize(cropped,(img_width,img_height))\n",
    "          temp = temp/255 #Normalize data\n",
    "\n",
    "          batch_data_augment[folder,idx,:,:,0] = (temp[:,:,0])\n",
    "          batch_data_augment[folder,idx,:,:,1] = (temp[:,:,1])\n",
    "          batch_data_augment[folder,idx,:,:,2] = (temp[:,:,2])\n",
    "\n",
    "    batch_labels[folder, int(t[folder + (batch*batch_size)].strip().split(';')[2])] = 1\n",
    "\n",
    "  if augment:\n",
    "    batch_data = np.concatenate([batch_data,batch_data_augment])\n",
    "    batch_labels = np.concatenate([batch_labels,batch_labels])\n",
    "\n",
    "  return (batch_data, batch_labels)"
   ]
  },
  {
   "cell_type": "code",
   "execution_count": 21,
   "metadata": {
    "id": "sQutCGKZ9qGA"
   },
   "outputs": [],
   "source": [
    "\n",
    "\n",
    "def generator(source_path, folder_list, batch_size, augment=False):\n",
    "    print( 'Source path = ', source_path, '; batch size =', batch_size)\n",
    "    while True:\n",
    "        t = np.random.permutation(folder_list)\n",
    "        num_batches = len(folder_list)//batch_size\n",
    "        for batch in range(num_batches): # we iterate over the number of batches\n",
    "          batch_data, batch_labels = one_batch_data_generator(source_path, t, batch, batch_size, img_idx, img_height, img_width, augment)\n",
    "          yield batch_data, batch_labels #you yield the batch_data and the batch_labels, remember what does yield do\n",
    "\n",
    "        last_batch_size = len(folder_list)%(batch_size)\n",
    "        if last_batch_size != 0: # we check if any folders remaining after the last batch\n",
    "          batch_data, batch_labels = one_batch_data_generator(source_path, t, num_batches, last_batch_size, img_idx, img_height, img_width, augment)\n",
    "          yield batch_data, batch_labels #you yield the batch_data and the batch_labels, remember what does yield do"
   ]
  },
  {
   "cell_type": "markdown",
   "metadata": {},
   "source": [
    "Update train and val path accordingly"
   ]
  },
  {
   "cell_type": "code",
   "execution_count": 22,
   "metadata": {
    "colab": {
     "base_uri": "https://localhost:8080/"
    },
    "id": "DNBIZfw99tUz",
    "outputId": "dbb0039b-2f9f-4850-c38e-8046d6727def"
   },
   "outputs": [
    {
     "name": "stdout",
     "output_type": "stream",
     "text": [
      "# training sequences = 663\n",
      "# validation sequences = 100\n",
      "# epochs = 30\n"
     ]
    }
   ],
   "source": [
    "curr_dt_time = datetime.datetime.now()\n",
    "train_path = '/home/datasets/Project_data/train'\n",
    "val_path = '/home/datasets/Project_data/val'\n",
    "num_train_sequences = len(train_doc)\n",
    "print('# training sequences =', num_train_sequences)\n",
    "num_val_sequences = len(val_doc)\n",
    "print('# validation sequences =', num_val_sequences)\n",
    "num_epochs = 30 # choose the number of epochs\n",
    "print ('# epochs =', num_epochs)"
   ]
  },
  {
   "cell_type": "markdown",
   "metadata": {
    "id": "arS-jEz09wag"
   },
   "source": [
    "## Model\n",
    "\n",
    "Here you make the model using different functionalities that Keras provides. Remember to use Conv3D and MaxPooling3D and not Conv2D and Maxpooling2D for a 3D convolution model. You would want to use TimeDistributed while building a Conv2D + RNN model. Also remember that the last layer is the softmax. Design the network in such a way that the model is able to give good accuracy on the least number of parameters so that it can fit in the memory of the webcam."
   ]
  },
  {
   "cell_type": "code",
   "execution_count": 23,
   "metadata": {
    "id": "nzNwljHv92_g"
   },
   "outputs": [],
   "source": [
    "from keras.models import Sequential, Model\n",
    "from keras.layers import Dense, GRU, Flatten, TimeDistributed, Flatten, BatchNormalization, Activation, Dropout\n",
    "from keras.layers.convolutional import Conv3D, MaxPooling3D,Conv2D, MaxPooling2D\n",
    "from keras.callbacks import ModelCheckpoint, ReduceLROnPlateau, EarlyStopping\n",
    "from keras import optimizers\n",
    "from keras.layers import LSTM\n"
   ]
  },
  {
   "cell_type": "code",
   "execution_count": 24,
   "metadata": {
    "id": "780dj6ybBjoy"
   },
   "outputs": [],
   "source": [
    "def sample_model():\n",
    "  #write your model here\n",
    "  modelA = Sequential()\n",
    "  modelA.add(Conv3D(64,(3,3,3),padding='same',input_shape=(18,img_width, img_height,3)))\n",
    "  modelA.add(BatchNormalization())\n",
    "  modelA.add(Activation('relu'))\n",
    "  modelA.add(MaxPooling3D(pool_size=(2,2,1), strides=(2,2,1)))\n",
    "\n",
    "  modelA.add(Conv3D(128,(3,3,3),padding='same'))\n",
    "  modelA.add(BatchNormalization())\n",
    "  modelA.add(Activation('relu'))\n",
    "  #model.add(MaxPooling3D(pool_size=(2,2,2), strides=(2,2,1)))\n",
    "  modelA.add(MaxPooling3D(pool_size=(2, 2, 2), strides=(2, 2, 2)))\n",
    "\n",
    "  modelA.add(Conv3D(256,(3,3,3),padding='same'))\n",
    "  modelA.add(BatchNormalization())\n",
    "  modelA.add(Activation('relu'))\n",
    "  modelA.add(MaxPooling3D(pool_size=(2, 2,2), strides=(2,2,2)))\n",
    "\n",
    "  modelA.add(Conv3D(256,(3,3,3),padding='same'))\n",
    "  modelA.add(BatchNormalization())\n",
    "  modelA.add(Activation('relu'))\n",
    "  modelA.add(MaxPooling3D(pool_size=(2, 2,2), strides=(2,2,2)))\n",
    "\n",
    "  modelA.add(Flatten())\n",
    "  modelA.add(Dropout(0.25))\n",
    "  modelA.add(Dense(512, activation = 'relu'))\n",
    "  #model.add(Activation('elu'))\n",
    "  #modelA.add(Dropout(0.25))\n",
    "  #model.add(Dense(len(class_names)))\n",
    "  modelA.add(Dense(5,activation = 'softmax'))\n",
    "\n",
    "  optimiser = tf.keras.optimizers.SGD(learning_rate=0.001,momentum=0.9,nesterov=True)\n",
    "  #,weight_decay=None,clipnorm=None,clipvalue=None,global_clipnorm=None,use_ema=False,ema_momentum=0.99,ema_overwrite_frequency=None,jit_compile=True,) #write your optimizer\n",
    "  modelA.compile(optimizer=optimiser, loss='categorical_crossentropy', metrics=['categorical_accuracy'])\n",
    "  #print (modelA.summary())\n",
    "  return modelA"
   ]
  },
  {
   "cell_type": "code",
   "execution_count": 25,
   "metadata": {
    "id": "V2oOzlDyACXJ"
   },
   "outputs": [],
   "source": [
    "def train_model(model, batch_size, augment_data=False):\n",
    "  train_generator = generator(train_path, train_doc,batch_size,augment=augment_data)\n",
    "  val_generator = generator(val_path, val_doc,batch_size)\n",
    "\n",
    "  model_name = 'model_init' + '_' + str(datetime.datetime.now()).replace(' ','').replace(':','_') + '/'\n",
    "\n",
    "  if not os.path.exists(model_name):\n",
    "    os.mkdir(model_name)\n",
    "\n",
    "    filepath = model_name + 'model-{epoch:05d}-{loss:.5f}-{categorical_accuracy:.5f}-{val_loss:.5f}-{val_categorical_accuracy:.5f}.h5'\n",
    "\n",
    "    checkpoint = ModelCheckpoint(filepath, monitor='val_loss', verbose=1, save_best_only=False, save_weights_only=False, mode='auto', save_freq='epoch')\n",
    "    LR = ReduceLROnPlateau(monitor='val_loss', factor=0.2, verbose=1, patience=4)\n",
    "    earlystop = EarlyStopping(monitor='val_loss',verbose=1, patience=5)\n",
    "    callbacks_list = [checkpoint, LR,earlystop]\n",
    "    if (num_train_sequences%batch_size) == 0:\n",
    "      steps_per_epoch = int(num_train_sequences/batch_size)\n",
    "    else:\n",
    "      steps_per_epoch = (num_train_sequences//batch_size) + 1\n",
    "    if (num_val_sequences%batch_size) == 0:\n",
    "      validation_steps = int(num_val_sequences/batch_size)\n",
    "    else:\n",
    "      validation_steps = (num_val_sequences//batch_size) + 1\n",
    "  history=model.fit(train_generator, steps_per_epoch=steps_per_epoch, epochs=num_epochs,\n",
    "                            callbacks=callbacks_list, validation_data=val_generator,\n",
    "                            validation_steps=validation_steps, class_weight=None, workers=1, initial_epoch=0)\n",
    "\n",
    "  return history"
   ]
  },
  {
   "cell_type": "code",
   "execution_count": 26,
   "metadata": {
    "id": "1twkMZxSKyOG"
   },
   "outputs": [],
   "source": [
    "import matplotlib.pyplot as plt\n",
    "def plot_loss_accuracy(history):\n",
    "    # list all data in history\n",
    "    print(history.history.keys())\n",
    "    # summarize history for accuracy\n",
    "    plt.plot(history.history['categorical_accuracy'])\n",
    "    plt.plot(history.history['val_categorical_accuracy'])\n",
    "    plt.title('model accuracy')\n",
    "    plt.ylabel('accuracy')\n",
    "    plt.xlabel('epoch')\n",
    "    plt.legend(['train', 'test'], loc='upper left')\n",
    "    plt.show()\n",
    "    # summarize history for loss\n",
    "    plt.plot(history.history['loss'])\n",
    "    plt.plot(history.history['val_loss'])\n",
    "    plt.title('model loss')\n",
    "    plt.ylabel('loss')\n",
    "    plt.xlabel('epoch')\n",
    "    plt.legend(['train', 'test'], loc='upper left')\n",
    "    plt.show()\n",
    "\n"
   ]
  },
  {
   "cell_type": "markdown",
   "metadata": {
    "id": "Li149uEmI33C"
   },
   "source": [
    "## Model --1"
   ]
  },
  {
   "cell_type": "code",
   "execution_count": null,
   "metadata": {
    "id": "m2ATIYsAAxGu"
   },
   "outputs": [],
   "source": [
    "img_width = 160\n",
    "img_height = 160\n",
    "batch_size=40\n",
    "img_idx=[0,1,2,3,4,5,6,7,8,9,10,11,12,13,14,15,16,17]\n",
    "modelA = sample_model()\n",
    "modelA.summary()\n",
    "model1=train_model(modelA,batch_size)"
   ]
  },
  {
   "cell_type": "markdown",
   "metadata": {},
   "source": [
    "**We got Exception Out of Memory for the above model parameters**"
   ]
  },
  {
   "cell_type": "markdown",
   "metadata": {
    "id": "tP0wH9YLGcED"
   },
   "source": [
    "## Model 2\n",
    "With no data agumentation"
   ]
  },
  {
   "cell_type": "code",
   "execution_count": 25,
   "metadata": {
    "id": "NVK1bN7FGaqJ"
   },
   "outputs": [
    {
     "name": "stdout",
     "output_type": "stream",
     "text": [
      "Model: \"sequential_2\"\n",
      "_________________________________________________________________\n",
      " Layer (type)                Output Shape              Param #   \n",
      "=================================================================\n",
      " conv3d_8 (Conv3D)           (None, 18, 160, 160, 64)  5248      \n",
      "                                                                 \n",
      " batch_normalization_8 (Batc  (None, 18, 160, 160, 64)  256      \n",
      " hNormalization)                                                 \n",
      "                                                                 \n",
      " activation_8 (Activation)   (None, 18, 160, 160, 64)  0         \n",
      "                                                                 \n",
      " max_pooling3d_8 (MaxPooling  (None, 9, 80, 160, 64)   0         \n",
      " 3D)                                                             \n",
      "                                                                 \n",
      " conv3d_9 (Conv3D)           (None, 9, 80, 160, 128)   221312    \n",
      "                                                                 \n",
      " batch_normalization_9 (Batc  (None, 9, 80, 160, 128)  512       \n",
      " hNormalization)                                                 \n",
      "                                                                 \n",
      " activation_9 (Activation)   (None, 9, 80, 160, 128)   0         \n",
      "                                                                 \n",
      " max_pooling3d_9 (MaxPooling  (None, 4, 40, 80, 128)   0         \n",
      " 3D)                                                             \n",
      "                                                                 \n",
      " conv3d_10 (Conv3D)          (None, 4, 40, 80, 256)    884992    \n",
      "                                                                 \n",
      " batch_normalization_10 (Bat  (None, 4, 40, 80, 256)   1024      \n",
      " chNormalization)                                                \n",
      "                                                                 \n",
      " activation_10 (Activation)  (None, 4, 40, 80, 256)    0         \n",
      "                                                                 \n",
      " max_pooling3d_10 (MaxPoolin  (None, 2, 20, 40, 256)   0         \n",
      " g3D)                                                            \n",
      "                                                                 \n",
      " conv3d_11 (Conv3D)          (None, 2, 20, 40, 256)    1769728   \n",
      "                                                                 \n",
      " batch_normalization_11 (Bat  (None, 2, 20, 40, 256)   1024      \n",
      " chNormalization)                                                \n",
      "                                                                 \n",
      " activation_11 (Activation)  (None, 2, 20, 40, 256)    0         \n",
      "                                                                 \n",
      " max_pooling3d_11 (MaxPoolin  (None, 1, 10, 20, 256)   0         \n",
      " g3D)                                                            \n",
      "                                                                 \n",
      " flatten_2 (Flatten)         (None, 51200)             0         \n",
      "                                                                 \n",
      " dropout_2 (Dropout)         (None, 51200)             0         \n",
      "                                                                 \n",
      " dense_4 (Dense)             (None, 512)               26214912  \n",
      "                                                                 \n",
      " dense_5 (Dense)             (None, 5)                 2565      \n",
      "                                                                 \n",
      "=================================================================\n",
      "Total params: 29,101,573\n",
      "Trainable params: 29,100,165\n",
      "Non-trainable params: 1,408\n",
      "_________________________________________________________________\n",
      "Source path =  /home/datasets/Project_data/train ; batch size = 8\n",
      "Epoch 1/25\n",
      "83/83 [==============================] - ETA: 0s - loss: 2.3786 - categorical_accuracy: 0.3982Source path =  /home/datasets/Project_data/val ; batch size = 8\n",
      "\n",
      "Epoch 00001: saving model to model_init_2023-09-0606_55_45.918602/model-00001-2.37856-0.39819-1.96354-0.19000.h5\n",
      "83/83 [==============================] - 51s 602ms/step - loss: 2.3786 - categorical_accuracy: 0.3982 - val_loss: 1.9635 - val_categorical_accuracy: 0.1900 - lr: 0.0010\n",
      "Epoch 2/25\n",
      "83/83 [==============================] - ETA: 0s - loss: 1.1404 - categorical_accuracy: 0.5294\n",
      "Epoch 00002: saving model to model_init_2023-09-0606_55_45.918602/model-00002-1.14036-0.52941-3.75989-0.23000.h5\n",
      "83/83 [==============================] - 50s 601ms/step - loss: 1.1404 - categorical_accuracy: 0.5294 - val_loss: 3.7599 - val_categorical_accuracy: 0.2300 - lr: 0.0010\n",
      "Epoch 3/25\n",
      "83/83 [==============================] - ETA: 0s - loss: 0.9465 - categorical_accuracy: 0.6154\n",
      "Epoch 00003: saving model to model_init_2023-09-0606_55_45.918602/model-00003-0.94655-0.61538-3.82403-0.31000.h5\n",
      "83/83 [==============================] - 53s 635ms/step - loss: 0.9465 - categorical_accuracy: 0.6154 - val_loss: 3.8240 - val_categorical_accuracy: 0.3100 - lr: 0.0010\n",
      "Epoch 4/25\n",
      "83/83 [==============================] - ETA: 0s - loss: 0.7771 - categorical_accuracy: 0.7134\n",
      "Epoch 00004: saving model to model_init_2023-09-0606_55_45.918602/model-00004-0.77714-0.71342-4.76869-0.25000.h5\n",
      "83/83 [==============================] - 48s 585ms/step - loss: 0.7771 - categorical_accuracy: 0.7134 - val_loss: 4.7687 - val_categorical_accuracy: 0.2500 - lr: 0.0010\n",
      "Epoch 5/25\n",
      "83/83 [==============================] - ETA: 0s - loss: 0.6719 - categorical_accuracy: 0.7436\n",
      "Epoch 00005: saving model to model_init_2023-09-0606_55_45.918602/model-00005-0.67192-0.74359-2.52465-0.31000.h5\n",
      "\n",
      "Epoch 00005: ReduceLROnPlateau reducing learning rate to 0.00020000000949949026.\n",
      "83/83 [==============================] - 49s 592ms/step - loss: 0.6719 - categorical_accuracy: 0.7436 - val_loss: 2.5247 - val_categorical_accuracy: 0.3100 - lr: 0.0010\n",
      "Epoch 6/25\n",
      "83/83 [==============================] - ETA: 0s - loss: 0.5404 - categorical_accuracy: 0.7753\n",
      "Epoch 00006: saving model to model_init_2023-09-0606_55_45.918602/model-00006-0.54036-0.77526-1.71418-0.46000.h5\n",
      "83/83 [==============================] - 49s 592ms/step - loss: 0.5404 - categorical_accuracy: 0.7753 - val_loss: 1.7142 - val_categorical_accuracy: 0.4600 - lr: 2.0000e-04\n",
      "Epoch 7/25\n",
      "83/83 [==============================] - ETA: 0s - loss: 0.3963 - categorical_accuracy: 0.8658\n",
      "Epoch 00007: saving model to model_init_2023-09-0606_55_45.918602/model-00007-0.39628-0.86576-1.32694-0.53000.h5\n",
      "83/83 [==============================] - 49s 594ms/step - loss: 0.3963 - categorical_accuracy: 0.8658 - val_loss: 1.3269 - val_categorical_accuracy: 0.5300 - lr: 2.0000e-04\n",
      "Epoch 8/25\n",
      "83/83 [==============================] - ETA: 0s - loss: 0.3222 - categorical_accuracy: 0.8748\n",
      "Epoch 00008: saving model to model_init_2023-09-0606_55_45.918602/model-00008-0.32220-0.87481-0.95030-0.65000.h5\n",
      "83/83 [==============================] - 48s 579ms/step - loss: 0.3222 - categorical_accuracy: 0.8748 - val_loss: 0.9503 - val_categorical_accuracy: 0.6500 - lr: 2.0000e-04\n",
      "Epoch 9/25\n",
      "83/83 [==============================] - ETA: 0s - loss: 0.2500 - categorical_accuracy: 0.9186\n",
      "Epoch 00009: saving model to model_init_2023-09-0606_55_45.918602/model-00009-0.25001-0.91855-1.07302-0.70000.h5\n",
      "83/83 [==============================] - 49s 587ms/step - loss: 0.2500 - categorical_accuracy: 0.9186 - val_loss: 1.0730 - val_categorical_accuracy: 0.7000 - lr: 2.0000e-04\n",
      "Epoch 10/25\n",
      "83/83 [==============================] - ETA: 0s - loss: 0.2287 - categorical_accuracy: 0.9170\n",
      "Epoch 00010: saving model to model_init_2023-09-0606_55_45.918602/model-00010-0.22866-0.91704-0.89891-0.71000.h5\n",
      "83/83 [==============================] - 48s 585ms/step - loss: 0.2287 - categorical_accuracy: 0.9170 - val_loss: 0.8989 - val_categorical_accuracy: 0.7100 - lr: 2.0000e-04\n",
      "Epoch 11/25\n",
      "83/83 [==============================] - ETA: 0s - loss: 0.2088 - categorical_accuracy: 0.9231\n",
      "Epoch 00011: saving model to model_init_2023-09-0606_55_45.918602/model-00011-0.20884-0.92308-0.81786-0.76000.h5\n",
      "83/83 [==============================] - 49s 591ms/step - loss: 0.2088 - categorical_accuracy: 0.9231 - val_loss: 0.8179 - val_categorical_accuracy: 0.7600 - lr: 2.0000e-04\n",
      "Epoch 12/25\n",
      "83/83 [==============================] - ETA: 0s - loss: 0.2020 - categorical_accuracy: 0.9291\n",
      "Epoch 00012: saving model to model_init_2023-09-0606_55_45.918602/model-00012-0.20195-0.92911-0.75694-0.75000.h5\n",
      "83/83 [==============================] - 50s 601ms/step - loss: 0.2020 - categorical_accuracy: 0.9291 - val_loss: 0.7569 - val_categorical_accuracy: 0.7500 - lr: 2.0000e-04\n",
      "Epoch 13/25\n",
      "83/83 [==============================] - ETA: 0s - loss: 0.1251 - categorical_accuracy: 0.9653\n",
      "Epoch 00013: saving model to model_init_2023-09-0606_55_45.918602/model-00013-0.12514-0.96531-0.78954-0.72000.h5\n",
      "83/83 [==============================] - 48s 583ms/step - loss: 0.1251 - categorical_accuracy: 0.9653 - val_loss: 0.7895 - val_categorical_accuracy: 0.7200 - lr: 2.0000e-04\n",
      "Epoch 14/25\n",
      "83/83 [==============================] - ETA: 0s - loss: 0.1107 - categorical_accuracy: 0.9804\n",
      "Epoch 00014: saving model to model_init_2023-09-0606_55_45.918602/model-00014-0.11065-0.98039-0.95550-0.71000.h5\n",
      "83/83 [==============================] - 49s 591ms/step - loss: 0.1107 - categorical_accuracy: 0.9804 - val_loss: 0.9555 - val_categorical_accuracy: 0.7100 - lr: 2.0000e-04\n",
      "Epoch 15/25\n",
      "83/83 [==============================] - ETA: 0s - loss: 0.1209 - categorical_accuracy: 0.9653\n",
      "Epoch 00015: saving model to model_init_2023-09-0606_55_45.918602/model-00015-0.12089-0.96531-0.89477-0.72000.h5\n",
      "83/83 [==============================] - 49s 588ms/step - loss: 0.1209 - categorical_accuracy: 0.9653 - val_loss: 0.8948 - val_categorical_accuracy: 0.7200 - lr: 2.0000e-04\n",
      "Epoch 16/25\n",
      "83/83 [==============================] - ETA: 0s - loss: 0.0980 - categorical_accuracy: 0.9804\n",
      "Epoch 00016: saving model to model_init_2023-09-0606_55_45.918602/model-00016-0.09802-0.98039-0.83671-0.76000.h5\n",
      "\n",
      "Epoch 00016: ReduceLROnPlateau reducing learning rate to 4.0000001899898055e-05.\n",
      "83/83 [==============================] - 49s 592ms/step - loss: 0.0980 - categorical_accuracy: 0.9804 - val_loss: 0.8367 - val_categorical_accuracy: 0.7600 - lr: 2.0000e-04\n",
      "Epoch 17/25\n",
      "83/83 [==============================] - ETA: 0s - loss: 0.0782 - categorical_accuracy: 0.9849\n",
      "Epoch 00017: saving model to model_init_2023-09-0606_55_45.918602/model-00017-0.07819-0.98492-0.89641-0.75000.h5\n",
      "83/83 [==============================] - 48s 582ms/step - loss: 0.0782 - categorical_accuracy: 0.9849 - val_loss: 0.8964 - val_categorical_accuracy: 0.7500 - lr: 4.0000e-05\n",
      "Epoch 00017: early stopping\n"
     ]
    }
   ],
   "source": [
    "img_width = 160\n",
    "img_height = 160\n",
    "batch_size=8\n",
    "num_epochs = 25\n",
    "img_idx=[0,1,2,3,4,5,6,7,8,9,10,11,12,13,14,15,16,17]\n",
    "modelB = sample_model()\n",
    "modelB.summary()\n",
    "model2=train_model(modelB,batch_size)\n"
   ]
  },
  {
   "cell_type": "code",
   "execution_count": 26,
   "metadata": {
    "id": "VrOwAIat9-o0"
   },
   "outputs": [
    {
     "name": "stdout",
     "output_type": "stream",
     "text": [
      "dict_keys(['loss', 'categorical_accuracy', 'val_loss', 'val_categorical_accuracy', 'lr'])\n"
     ]
    },
    {
     "data": {
      "image/png": "[encoded data removed]",
      "text/plain": [
       "<Figure size 432x288 with 1 Axes>"
      ]
     },
     "metadata": {
      "needs_background": "light"
     },
     "output_type": "display_data"
    },
    {
     "data": {
      "image/png": "[encoded data removed]",
      "text/plain": [
       "<Figure size 432x288 with 1 Axes>"
      ]
     },
     "metadata": {
      "needs_background": "light"
     },
     "output_type": "display_data"
    }
   ],
   "source": [
    "plot_loss_accuracy(model2)"
   ]
  },
  {
   "cell_type": "markdown",
   "metadata": {},
   "source": [
    "**The model resulted in over fitting with accuracy scores (Training – 0.98, Val – 0.75)**"
   ]
  },
  {
   "cell_type": "markdown",
   "metadata": {
    "id": "HDGLMrBcLH91"
   },
   "source": [
    "## Model 3\n",
    "\n",
    "Alternate Frames with no data agumentation"
   ]
  },
  {
   "cell_type": "code",
   "execution_count": 12,
   "metadata": {
    "colab": {
     "base_uri": "https://localhost:8080/"
    },
    "id": "zsSIK8hJLGcZ",
    "outputId": "c5eafc5b-e764-49eb-d3ad-e7b3dc74e0c5"
   },
   "outputs": [
    {
     "name": "stdout",
     "output_type": "stream",
     "text": [
      "No of Frames Used 18\n"
     ]
    },
    {
     "name": "stderr",
     "output_type": "stream",
     "text": [
      "2023-09-06 07:58:38.918874: W tensorflow/core/common_runtime/gpu/gpu_bfc_allocator.cc:39] Overriding allow_growth setting because the TF_FORCE_GPU_ALLOW_GROWTH environment variable is set. Original config value was 0.\n",
      "2023-09-06 07:58:38.918943: I tensorflow/core/common_runtime/gpu/gpu_device.cc:1525] Created device /job:localhost/replica:0/task:0/device:GPU:0 with 14796 MB memory:  -> device: 0, name: Quadro RTX 5000, pci bus id: 0000:3f:00.0, compute capability: 7.5\n"
     ]
    },
    {
     "name": "stdout",
     "output_type": "stream",
     "text": [
      "Model: \"sequential\"\n",
      "_________________________________________________________________\n",
      " Layer (type)                Output Shape              Param #   \n",
      "=================================================================\n",
      " conv3d (Conv3D)             (None, 18, 160, 160, 64)  5248      \n",
      "                                                                 \n",
      " batch_normalization (BatchN  (None, 18, 160, 160, 64)  256      \n",
      " ormalization)                                                   \n",
      "                                                                 \n",
      " activation (Activation)     (None, 18, 160, 160, 64)  0         \n",
      "                                                                 \n",
      " max_pooling3d (MaxPooling3D  (None, 9, 80, 160, 64)   0         \n",
      " )                                                               \n",
      "                                                                 \n",
      " conv3d_1 (Conv3D)           (None, 9, 80, 160, 128)   221312    \n",
      "                                                                 \n",
      " batch_normalization_1 (Batc  (None, 9, 80, 160, 128)  512       \n",
      " hNormalization)                                                 \n",
      "                                                                 \n",
      " activation_1 (Activation)   (None, 9, 80, 160, 128)   0         \n",
      "                                                                 \n",
      " max_pooling3d_1 (MaxPooling  (None, 4, 40, 80, 128)   0         \n",
      " 3D)                                                             \n",
      "                                                                 \n",
      " conv3d_2 (Conv3D)           (None, 4, 40, 80, 256)    884992    \n",
      "                                                                 \n",
      " batch_normalization_2 (Batc  (None, 4, 40, 80, 256)   1024      \n",
      " hNormalization)                                                 \n",
      "                                                                 \n",
      " activation_2 (Activation)   (None, 4, 40, 80, 256)    0         \n",
      "                                                                 \n",
      " max_pooling3d_2 (MaxPooling  (None, 2, 20, 40, 256)   0         \n",
      " 3D)                                                             \n",
      "                                                                 \n",
      " conv3d_3 (Conv3D)           (None, 2, 20, 40, 256)    1769728   \n",
      "                                                                 \n",
      " batch_normalization_3 (Batc  (None, 2, 20, 40, 256)   1024      \n",
      " hNormalization)                                                 \n",
      "                                                                 \n",
      " activation_3 (Activation)   (None, 2, 20, 40, 256)    0         \n",
      "                                                                 \n",
      " max_pooling3d_3 (MaxPooling  (None, 1, 10, 20, 256)   0         \n",
      " 3D)                                                             \n",
      "                                                                 \n",
      " flatten (Flatten)           (None, 51200)             0         \n",
      "                                                                 \n",
      " dropout (Dropout)           (None, 51200)             0         \n",
      "                                                                 \n",
      " dense (Dense)               (None, 512)               26214912  \n",
      "                                                                 \n",
      " dense_1 (Dense)             (None, 5)                 2565      \n",
      "                                                                 \n",
      "=================================================================\n",
      "Total params: 29,101,573\n",
      "Trainable params: 29,100,165\n",
      "Non-trainable params: 1,408\n",
      "_________________________________________________________________\n",
      "Source path =  /home/datasets/Project_data/train ; batch size = 8\n",
      "Epoch 1/25\n"
     ]
    },
    {
     "name": "stderr",
     "output_type": "stream",
     "text": [
      "2023-09-06 07:58:41.030559: I tensorflow/stream_executor/cuda/cuda_dnn.cc:377] Loaded cuDNN version 8302\n"
     ]
    },
    {
     "name": "stdout",
     "output_type": "stream",
     "text": [
      "83/83 [==============================] - ETA: 0s - loss: 2.2143 - categorical_accuracy: 0.4600Source path =  /home/datasets/Project_data/val ; batch size = 8\n",
      "\n",
      "Epoch 00001: saving model to model_init_2023-09-0607_58_39.066275/model-00001-2.21432-0.46003-3.03875-0.17000.h5\n",
      "83/83 [==============================] - 62s 680ms/step - loss: 2.2143 - categorical_accuracy: 0.4600 - val_loss: 3.0388 - val_categorical_accuracy: 0.1700 - lr: 0.0010\n",
      "Epoch 2/25\n",
      "83/83 [==============================] - ETA: 0s - loss: 0.9938 - categorical_accuracy: 0.6048\n",
      "Epoch 00002: saving model to model_init_2023-09-0607_58_39.066275/model-00002-0.99381-0.60483-4.45838-0.14000.h5\n",
      "83/83 [==============================] - 53s 636ms/step - loss: 0.9938 - categorical_accuracy: 0.6048 - val_loss: 4.4584 - val_categorical_accuracy: 0.1400 - lr: 0.0010\n",
      "Epoch 3/25\n",
      "83/83 [==============================] - ETA: 0s - loss: 0.7591 - categorical_accuracy: 0.6802\n",
      "Epoch 00003: saving model to model_init_2023-09-0607_58_39.066275/model-00003-0.75914-0.68024-5.01856-0.20000.h5\n",
      "83/83 [==============================] - 51s 613ms/step - loss: 0.7591 - categorical_accuracy: 0.6802 - val_loss: 5.0186 - val_categorical_accuracy: 0.2000 - lr: 0.0010\n",
      "Epoch 4/25\n",
      "83/83 [==============================] - ETA: 0s - loss: 0.5547 - categorical_accuracy: 0.7798\n",
      "Epoch 00004: saving model to model_init_2023-09-0607_58_39.066275/model-00004-0.55466-0.77979-4.75329-0.19000.h5\n",
      "83/83 [==============================] - 49s 593ms/step - loss: 0.5547 - categorical_accuracy: 0.7798 - val_loss: 4.7533 - val_categorical_accuracy: 0.1900 - lr: 0.0010\n",
      "Epoch 5/25\n",
      "83/83 [==============================] - ETA: 0s - loss: 0.3964 - categorical_accuracy: 0.8507\n",
      "Epoch 00005: saving model to model_init_2023-09-0607_58_39.066275/model-00005-0.39637-0.85068-5.93479-0.28000.h5\n",
      "\n",
      "Epoch 00005: ReduceLROnPlateau reducing learning rate to 0.00020000000949949026.\n",
      "83/83 [==============================] - 48s 581ms/step - loss: 0.3964 - categorical_accuracy: 0.8507 - val_loss: 5.9348 - val_categorical_accuracy: 0.2800 - lr: 0.0010\n",
      "Epoch 6/25\n",
      "83/83 [==============================] - ETA: 0s - loss: 0.2641 - categorical_accuracy: 0.8989\n",
      "Epoch 00006: saving model to model_init_2023-09-0607_58_39.066275/model-00006-0.26413-0.89894-2.39494-0.42000.h5\n",
      "83/83 [==============================] - 49s 588ms/step - loss: 0.2641 - categorical_accuracy: 0.8989 - val_loss: 2.3949 - val_categorical_accuracy: 0.4200 - lr: 2.0000e-04\n",
      "Epoch 7/25\n",
      "83/83 [==============================] - ETA: 0s - loss: 0.1726 - categorical_accuracy: 0.9336\n",
      "Epoch 00007: saving model to model_init_2023-09-0607_58_39.066275/model-00007-0.17259-0.93363-1.57818-0.56000.h5\n",
      "83/83 [==============================] - 48s 580ms/step - loss: 0.1726 - categorical_accuracy: 0.9336 - val_loss: 1.5782 - val_categorical_accuracy: 0.5600 - lr: 2.0000e-04\n",
      "Epoch 8/25\n",
      "83/83 [==============================] - ETA: 0s - loss: 0.1372 - categorical_accuracy: 0.9563\n",
      "Epoch 00008: saving model to model_init_2023-09-0607_58_39.066275/model-00008-0.13722-0.95626-0.65520-0.75000.h5\n",
      "83/83 [==============================] - 48s 581ms/step - loss: 0.1372 - categorical_accuracy: 0.9563 - val_loss: 0.6552 - val_categorical_accuracy: 0.7500 - lr: 2.0000e-04\n",
      "Epoch 9/25\n",
      "83/83 [==============================] - ETA: 0s - loss: 0.0988 - categorical_accuracy: 0.9668\n",
      "Epoch 00009: saving model to model_init_2023-09-0607_58_39.066275/model-00009-0.09884-0.96682-0.61612-0.82000.h5\n",
      "83/83 [==============================] - 48s 579ms/step - loss: 0.0988 - categorical_accuracy: 0.9668 - val_loss: 0.6161 - val_categorical_accuracy: 0.8200 - lr: 2.0000e-04\n",
      "Epoch 10/25\n",
      "83/83 [==============================] - ETA: 0s - loss: 0.0818 - categorical_accuracy: 0.9789\n",
      "Epoch 00010: saving model to model_init_2023-09-0607_58_39.066275/model-00010-0.08183-0.97888-0.53077-0.76000.h5\n",
      "83/83 [==============================] - 48s 574ms/step - loss: 0.0818 - categorical_accuracy: 0.9789 - val_loss: 0.5308 - val_categorical_accuracy: 0.7600 - lr: 2.0000e-04\n",
      "Epoch 11/25\n",
      "83/83 [==============================] - ETA: 0s - loss: 0.0807 - categorical_accuracy: 0.9744\n",
      "Epoch 00011: saving model to model_init_2023-09-0607_58_39.066275/model-00011-0.08073-0.97436-0.64784-0.79000.h5\n",
      "83/83 [==============================] - 47s 566ms/step - loss: 0.0807 - categorical_accuracy: 0.9744 - val_loss: 0.6478 - val_categorical_accuracy: 0.7900 - lr: 2.0000e-04\n",
      "Epoch 12/25\n",
      "83/83 [==============================] - ETA: 0s - loss: 0.0888 - categorical_accuracy: 0.9653\n",
      "Epoch 00012: saving model to model_init_2023-09-0607_58_39.066275/model-00012-0.08881-0.96531-0.49837-0.80000.h5\n",
      "83/83 [==============================] - 47s 569ms/step - loss: 0.0888 - categorical_accuracy: 0.9653 - val_loss: 0.4984 - val_categorical_accuracy: 0.8000 - lr: 2.0000e-04\n",
      "Epoch 13/25\n",
      "83/83 [==============================] - ETA: 0s - loss: 0.0442 - categorical_accuracy: 0.9910\n",
      "Epoch 00013: saving model to model_init_2023-09-0607_58_39.066275/model-00013-0.04424-0.99095-0.46175-0.88000.h5\n",
      "83/83 [==============================] - 46s 558ms/step - loss: 0.0442 - categorical_accuracy: 0.9910 - val_loss: 0.4618 - val_categorical_accuracy: 0.8800 - lr: 2.0000e-04\n",
      "Epoch 14/25\n",
      "83/83 [==============================] - ETA: 0s - loss: 0.0347 - categorical_accuracy: 0.9985\n",
      "Epoch 00014: saving model to model_init_2023-09-0607_58_39.066275/model-00014-0.03466-0.99849-0.61817-0.80000.h5\n",
      "83/83 [==============================] - 47s 571ms/step - loss: 0.0347 - categorical_accuracy: 0.9985 - val_loss: 0.6182 - val_categorical_accuracy: 0.8000 - lr: 2.0000e-04\n",
      "Epoch 15/25\n",
      "83/83 [==============================] - ETA: 0s - loss: 0.0502 - categorical_accuracy: 0.9879\n",
      "Epoch 00015: saving model to model_init_2023-09-0607_58_39.066275/model-00015-0.05015-0.98793-0.70220-0.83000.h5\n",
      "83/83 [==============================] - 48s 579ms/step - loss: 0.0502 - categorical_accuracy: 0.9879 - val_loss: 0.7022 - val_categorical_accuracy: 0.8300 - lr: 2.0000e-04\n",
      "Epoch 16/25\n",
      "83/83 [==============================] - ETA: 0s - loss: 0.0375 - categorical_accuracy: 0.9940\n",
      "Epoch 00016: saving model to model_init_2023-09-0607_58_39.066275/model-00016-0.03754-0.99397-0.42979-0.84000.h5\n",
      "83/83 [==============================] - 48s 586ms/step - loss: 0.0375 - categorical_accuracy: 0.9940 - val_loss: 0.4298 - val_categorical_accuracy: 0.8400 - lr: 2.0000e-04\n",
      "Epoch 17/25\n",
      "83/83 [==============================] - ETA: 0s - loss: 0.0381 - categorical_accuracy: 0.9925\n",
      "Epoch 00017: saving model to model_init_2023-09-0607_58_39.066275/model-00017-0.03806-0.99246-0.47889-0.90000.h5\n",
      "83/83 [==============================] - 48s 579ms/step - loss: 0.0381 - categorical_accuracy: 0.9925 - val_loss: 0.4789 - val_categorical_accuracy: 0.9000 - lr: 2.0000e-04\n",
      "Epoch 18/25\n",
      "83/83 [==============================] - ETA: 0s - loss: 0.0238 - categorical_accuracy: 0.9955\n",
      "Epoch 00018: saving model to model_init_2023-09-0607_58_39.066275/model-00018-0.02376-0.99548-0.55121-0.85000.h5\n",
      "83/83 [==============================] - 49s 588ms/step - loss: 0.0238 - categorical_accuracy: 0.9955 - val_loss: 0.5512 - val_categorical_accuracy: 0.8500 - lr: 2.0000e-04\n",
      "Epoch 19/25\n",
      "83/83 [==============================] - ETA: 0s - loss: 0.0272 - categorical_accuracy: 0.9940\n",
      "Epoch 00019: saving model to model_init_2023-09-0607_58_39.066275/model-00019-0.02722-0.99397-0.58343-0.84000.h5\n",
      "83/83 [==============================] - 49s 594ms/step - loss: 0.0272 - categorical_accuracy: 0.9940 - val_loss: 0.5834 - val_categorical_accuracy: 0.8400 - lr: 2.0000e-04\n",
      "Epoch 20/25\n",
      "83/83 [==============================] - ETA: 0s - loss: 0.0262 - categorical_accuracy: 0.9970\n",
      "Epoch 00020: saving model to model_init_2023-09-0607_58_39.066275/model-00020-0.02615-0.99698-0.46303-0.85000.h5\n",
      "\n",
      "Epoch 00020: ReduceLROnPlateau reducing learning rate to 4.0000001899898055e-05.\n",
      "83/83 [==============================] - 48s 579ms/step - loss: 0.0262 - categorical_accuracy: 0.9970 - val_loss: 0.4630 - val_categorical_accuracy: 0.8500 - lr: 2.0000e-04\n",
      "Epoch 21/25\n",
      "83/83 [==============================] - ETA: 0s - loss: 0.0204 - categorical_accuracy: 0.9970\n",
      "Epoch 00021: saving model to model_init_2023-09-0607_58_39.066275/model-00021-0.02035-0.99698-0.47373-0.90000.h5\n",
      "83/83 [==============================] - 49s 588ms/step - loss: 0.0204 - categorical_accuracy: 0.9970 - val_loss: 0.4737 - val_categorical_accuracy: 0.9000 - lr: 4.0000e-05\n",
      "Epoch 00021: early stopping\n"
     ]
    }
   ],
   "source": [
    "img_width = 160\n",
    "img_height = 160\n",
    "batch_size=8\n",
    "num_epochs = 25\n",
    "img_idx=[0,1,3,5,7,9,11,13,15,17,18,19,21,23,25,26,27,29] #,2,3,4,5,6,7,8,9,10,11,12,13,14,15,16,17]\n",
    "print(\"No of Frames Used\", len(img_idx))\n",
    "modelC = sample_model()\n",
    "#print(model)\n",
    "modelC.summary()\n",
    "model3=train_model(modelC,batch_size)\n"
   ]
  },
  {
   "cell_type": "code",
   "execution_count": null,
   "metadata": {},
   "outputs": [],
   "source": []
  },
  {
   "cell_type": "code",
   "execution_count": 13,
   "metadata": {
    "id": "yRGr70v5Pt10"
   },
   "outputs": [
    {
     "name": "stdout",
     "output_type": "stream",
     "text": [
      "dict_keys(['loss', 'categorical_accuracy', 'val_loss', 'val_categorical_accuracy', 'lr'])\n"
     ]
    },
    {
     "data": {
      "image/png": "[encoded data removed]",
      "text/plain": [
       "<Figure size 432x288 with 1 Axes>"
      ]
     },
     "metadata": {
      "needs_background": "light"
     },
     "output_type": "display_data"
    },
    {
     "data": {
      "image/png": "[encoded data removed]",
      "text/plain": [
       "<Figure size 432x288 with 1 Axes>"
      ]
     },
     "metadata": {
      "needs_background": "light"
     },
     "output_type": "display_data"
    }
   ],
   "source": [
    "plot_loss_accuracy(model3)"
   ]
  },
  {
   "cell_type": "markdown",
   "metadata": {},
   "source": [
    "**Slightly overfitting w.r.t to training and validation scores 0.99 and 0.90 respectively, Lets apply data augumentation and see if overfitting is eliminated**"
   ]
  },
  {
   "cell_type": "markdown",
   "metadata": {
    "id": "hPcz-xUsP8bc"
   },
   "source": [
    "## Module 4\n",
    "\n",
    "Applying data agumentation to the above model"
   ]
  },
  {
   "cell_type": "code",
   "execution_count": 14,
   "metadata": {},
   "outputs": [
    {
     "name": "stdout",
     "output_type": "stream",
     "text": [
      "No of Frames Used 18\n",
      "Model: \"sequential_1\"\n",
      "_________________________________________________________________\n",
      " Layer (type)                Output Shape              Param #   \n",
      "=================================================================\n",
      " conv3d_4 (Conv3D)           (None, 18, 160, 160, 64)  5248      \n",
      "                                                                 \n",
      " batch_normalization_4 (Batc  (None, 18, 160, 160, 64)  256      \n",
      " hNormalization)                                                 \n",
      "                                                                 \n",
      " activation_4 (Activation)   (None, 18, 160, 160, 64)  0         \n",
      "                                                                 \n",
      " max_pooling3d_4 (MaxPooling  (None, 9, 80, 160, 64)   0         \n",
      " 3D)                                                             \n",
      "                                                                 \n",
      " conv3d_5 (Conv3D)           (None, 9, 80, 160, 128)   221312    \n",
      "                                                                 \n",
      " batch_normalization_5 (Batc  (None, 9, 80, 160, 128)  512       \n",
      " hNormalization)                                                 \n",
      "                                                                 \n",
      " activation_5 (Activation)   (None, 9, 80, 160, 128)   0         \n",
      "                                                                 \n",
      " max_pooling3d_5 (MaxPooling  (None, 4, 40, 80, 128)   0         \n",
      " 3D)                                                             \n",
      "                                                                 \n",
      " conv3d_6 (Conv3D)           (None, 4, 40, 80, 256)    884992    \n",
      "                                                                 \n",
      " batch_normalization_6 (Batc  (None, 4, 40, 80, 256)   1024      \n",
      " hNormalization)                                                 \n",
      "                                                                 \n",
      " activation_6 (Activation)   (None, 4, 40, 80, 256)    0         \n",
      "                                                                 \n",
      " max_pooling3d_6 (MaxPooling  (None, 2, 20, 40, 256)   0         \n",
      " 3D)                                                             \n",
      "                                                                 \n",
      " conv3d_7 (Conv3D)           (None, 2, 20, 40, 256)    1769728   \n",
      "                                                                 \n",
      " batch_normalization_7 (Batc  (None, 2, 20, 40, 256)   1024      \n",
      " hNormalization)                                                 \n",
      "                                                                 \n",
      " activation_7 (Activation)   (None, 2, 20, 40, 256)    0         \n",
      "                                                                 \n",
      " max_pooling3d_7 (MaxPooling  (None, 1, 10, 20, 256)   0         \n",
      " 3D)                                                             \n",
      "                                                                 \n",
      " flatten_1 (Flatten)         (None, 51200)             0         \n",
      "                                                                 \n",
      " dropout_1 (Dropout)         (None, 51200)             0         \n",
      "                                                                 \n",
      " dense_2 (Dense)             (None, 512)               26214912  \n",
      "                                                                 \n",
      " dense_3 (Dense)             (None, 5)                 2565      \n",
      "                                                                 \n",
      "=================================================================\n",
      "Total params: 29,101,573\n",
      "Trainable params: 29,100,165\n",
      "Non-trainable params: 1,408\n",
      "_________________________________________________________________\n",
      "Source path =  /home/datasets/Project_data/train ; batch size = 8\n",
      "Epoch 1/25\n",
      "83/83 [==============================] - ETA: 0s - loss: 2.1663 - categorical_accuracy: 0.3130Source path =  /home/datasets/Project_data/val ; batch size = 8\n",
      "\n",
      "Epoch 00001: saving model to model_init_2023-09-0608_16_10.107026/model-00001-2.16629-0.31297-2.09875-0.21000.h5\n",
      "83/83 [==============================] - 121s 1s/step - loss: 2.1663 - categorical_accuracy: 0.3130 - val_loss: 2.0988 - val_categorical_accuracy: 0.2100 - lr: 0.0010\n",
      "Epoch 2/25\n",
      "83/83 [==============================] - ETA: 0s - loss: 1.2025 - categorical_accuracy: 0.4811\n",
      "Epoch 00002: saving model to model_init_2023-09-0608_16_10.107026/model-00002-1.20247-0.48115-4.46475-0.17000.h5\n",
      "83/83 [==============================] - 101s 1s/step - loss: 1.2025 - categorical_accuracy: 0.4811 - val_loss: 4.4648 - val_categorical_accuracy: 0.1700 - lr: 0.0010\n",
      "Epoch 3/25\n",
      "83/83 [==============================] - ETA: 0s - loss: 0.9331 - categorical_accuracy: 0.6357\n",
      "Epoch 00003: saving model to model_init_2023-09-0608_16_10.107026/model-00003-0.93306-0.63575-3.99280-0.26000.h5\n",
      "83/83 [==============================] - 90s 1s/step - loss: 0.9331 - categorical_accuracy: 0.6357 - val_loss: 3.9928 - val_categorical_accuracy: 0.2600 - lr: 0.0010\n",
      "Epoch 4/25\n",
      "83/83 [==============================] - ETA: 0s - loss: 0.7506 - categorical_accuracy: 0.7217\n",
      "Epoch 00004: saving model to model_init_2023-09-0608_16_10.107026/model-00004-0.75063-0.72172-4.28962-0.18000.h5\n",
      "83/83 [==============================] - 90s 1s/step - loss: 0.7506 - categorical_accuracy: 0.7217 - val_loss: 4.2896 - val_categorical_accuracy: 0.1800 - lr: 0.0010\n",
      "Epoch 5/25\n",
      "83/83 [==============================] - ETA: 0s - loss: 0.5890 - categorical_accuracy: 0.7745\n",
      "Epoch 00005: saving model to model_init_2023-09-0608_16_10.107026/model-00005-0.58898-0.77451-3.18625-0.27000.h5\n",
      "\n",
      "Epoch 00005: ReduceLROnPlateau reducing learning rate to 0.00020000000949949026.\n",
      "83/83 [==============================] - 90s 1s/step - loss: 0.5890 - categorical_accuracy: 0.7745 - val_loss: 3.1863 - val_categorical_accuracy: 0.2700 - lr: 0.0010\n",
      "Epoch 6/25\n",
      "83/83 [==============================] - ETA: 0s - loss: 0.4334 - categorical_accuracy: 0.8363\n",
      "Epoch 00006: saving model to model_init_2023-09-0608_16_10.107026/model-00006-0.43335-0.83635-1.67763-0.48000.h5\n",
      "83/83 [==============================] - 91s 1s/step - loss: 0.4334 - categorical_accuracy: 0.8363 - val_loss: 1.6776 - val_categorical_accuracy: 0.4800 - lr: 2.0000e-04\n",
      "Epoch 7/25\n",
      "83/83 [==============================] - ETA: 0s - loss: 0.3419 - categorical_accuracy: 0.8665\n",
      "Epoch 00007: saving model to model_init_2023-09-0608_16_10.107026/model-00007-0.34191-0.86652-0.77509-0.67000.h5\n",
      "83/83 [==============================] - 91s 1s/step - loss: 0.3419 - categorical_accuracy: 0.8665 - val_loss: 0.7751 - val_categorical_accuracy: 0.6700 - lr: 2.0000e-04\n",
      "Epoch 8/25\n",
      "83/83 [==============================] - ETA: 0s - loss: 0.2688 - categorical_accuracy: 0.9035\n",
      "Epoch 00008: saving model to model_init_2023-09-0608_16_10.107026/model-00008-0.26876-0.90347-0.50614-0.86000.h5\n",
      "83/83 [==============================] - 91s 1s/step - loss: 0.2688 - categorical_accuracy: 0.9035 - val_loss: 0.5061 - val_categorical_accuracy: 0.8600 - lr: 2.0000e-04\n",
      "Epoch 9/25\n",
      "83/83 [==============================] - ETA: 0s - loss: 0.2414 - categorical_accuracy: 0.9140\n",
      "Epoch 00009: saving model to model_init_2023-09-0608_16_10.107026/model-00009-0.24139-0.91403-0.65310-0.79000.h5\n",
      "83/83 [==============================] - 91s 1s/step - loss: 0.2414 - categorical_accuracy: 0.9140 - val_loss: 0.6531 - val_categorical_accuracy: 0.7900 - lr: 2.0000e-04\n",
      "Epoch 10/25\n",
      "83/83 [==============================] - ETA: 0s - loss: 0.2107 - categorical_accuracy: 0.9329\n",
      "Epoch 00010: saving model to model_init_2023-09-0608_16_10.107026/model-00010-0.21066-0.93288-0.48040-0.82000.h5\n",
      "83/83 [==============================] - 92s 1s/step - loss: 0.2107 - categorical_accuracy: 0.9329 - val_loss: 0.4804 - val_categorical_accuracy: 0.8200 - lr: 2.0000e-04\n",
      "Epoch 11/25\n",
      "83/83 [==============================] - ETA: 0s - loss: 0.1799 - categorical_accuracy: 0.9397\n",
      "Epoch 00011: saving model to model_init_2023-09-0608_16_10.107026/model-00011-0.17994-0.93967-0.53762-0.84000.h5\n",
      "83/83 [==============================] - 111s 1s/step - loss: 0.1799 - categorical_accuracy: 0.9397 - val_loss: 0.5376 - val_categorical_accuracy: 0.8400 - lr: 2.0000e-04\n",
      "Epoch 12/25\n",
      "83/83 [==============================] - ETA: 0s - loss: 0.1626 - categorical_accuracy: 0.9465\n",
      "Epoch 00012: saving model to model_init_2023-09-0608_16_10.107026/model-00012-0.16260-0.94646-0.37976-0.90000.h5\n",
      "83/83 [==============================] - 92s 1s/step - loss: 0.1626 - categorical_accuracy: 0.9465 - val_loss: 0.3798 - val_categorical_accuracy: 0.9000 - lr: 2.0000e-04\n",
      "Epoch 13/25\n",
      "83/83 [==============================] - ETA: 0s - loss: 0.1602 - categorical_accuracy: 0.9449\n",
      "Epoch 00013: saving model to model_init_2023-09-0608_16_10.107026/model-00013-0.16017-0.94495-0.56502-0.85000.h5\n",
      "83/83 [==============================] - 100s 1s/step - loss: 0.1602 - categorical_accuracy: 0.9449 - val_loss: 0.5650 - val_categorical_accuracy: 0.8500 - lr: 2.0000e-04\n",
      "Epoch 14/25\n",
      "83/83 [==============================] - ETA: 0s - loss: 0.1427 - categorical_accuracy: 0.9563\n",
      "Epoch 00014: saving model to model_init_2023-09-0608_16_10.107026/model-00014-0.14272-0.95626-0.43542-0.86000.h5\n",
      "83/83 [==============================] - 110s 1s/step - loss: 0.1427 - categorical_accuracy: 0.9563 - val_loss: 0.4354 - val_categorical_accuracy: 0.8600 - lr: 2.0000e-04\n",
      "Epoch 15/25\n",
      "83/83 [==============================] - ETA: 0s - loss: 0.1239 - categorical_accuracy: 0.9548\n",
      "Epoch 00015: saving model to model_init_2023-09-0608_16_10.107026/model-00015-0.12392-0.95475-0.48372-0.81000.h5\n",
      "83/83 [==============================] - 96s 1s/step - loss: 0.1239 - categorical_accuracy: 0.9548 - val_loss: 0.4837 - val_categorical_accuracy: 0.8100 - lr: 2.0000e-04\n",
      "Epoch 16/25\n",
      "83/83 [==============================] - ETA: 0s - loss: 0.1317 - categorical_accuracy: 0.9540\n",
      "Epoch 00016: saving model to model_init_2023-09-0608_16_10.107026/model-00016-0.13166-0.95400-0.46812-0.89000.h5\n",
      "\n",
      "Epoch 00016: ReduceLROnPlateau reducing learning rate to 4.0000001899898055e-05.\n",
      "83/83 [==============================] - 101s 1s/step - loss: 0.1317 - categorical_accuracy: 0.9540 - val_loss: 0.4681 - val_categorical_accuracy: 0.8900 - lr: 2.0000e-04\n",
      "Epoch 17/25\n",
      "83/83 [==============================] - ETA: 0s - loss: 0.1047 - categorical_accuracy: 0.9668\n",
      "Epoch 00017: saving model to model_init_2023-09-0608_16_10.107026/model-00017-0.10466-0.96682-0.40140-0.89000.h5\n",
      "83/83 [==============================] - 93s 1s/step - loss: 0.1047 - categorical_accuracy: 0.9668 - val_loss: 0.4014 - val_categorical_accuracy: 0.8900 - lr: 4.0000e-05\n",
      "Epoch 00017: early stopping\n"
     ]
    }
   ],
   "source": [
    "img_width = 160\n",
    "img_height = 160\n",
    "batch_size=8\n",
    "num_epochs = 25\n",
    "img_idx=[0,1,3,5,7,9,11,13,15,17,18,19,21,23,25,26,27,29] #,2,3,4,5,6,7,8,9,10,11,12,13,14,15,16,17]\n",
    "print(\"No of Frames Used\", len(img_idx))\n",
    "modelD = sample_model()\n",
    "#print(model)\n",
    "modelD.summary()\n",
    "model4=train_model(modelD,batch_size, True)\n"
   ]
  },
  {
   "cell_type": "code",
   "execution_count": 16,
   "metadata": {},
   "outputs": [
    {
     "name": "stdout",
     "output_type": "stream",
     "text": [
      "dict_keys(['loss', 'categorical_accuracy', 'val_loss', 'val_categorical_accuracy', 'lr'])\n"
     ]
    },
    {
     "data": {
      "image/png": "[encoded data removed]",
      "text/plain": [
       "<Figure size 432x288 with 1 Axes>"
      ]
     },
     "metadata": {
      "needs_background": "light"
     },
     "output_type": "display_data"
    },
    {
     "data": {
      "image/png": "[encoded data removed]",
      "text/plain": [
       "<Figure size 432x288 with 1 Axes>"
      ]
     },
     "metadata": {
      "needs_background": "light"
     },
     "output_type": "display_data"
    }
   ],
   "source": [
    "plot_loss_accuracy(model4)"
   ]
  },
  {
   "cell_type": "markdown",
   "metadata": {},
   "source": [
    "**After applying data augumentaion we see that the model performance is better than above, overfitting is reduced and the validation loss is also improved but the trainable parameters are more let check by reducing the filter size**\n"
   ]
  },
  {
   "cell_type": "markdown",
   "metadata": {
    "id": "3zPDuqBHP9pc"
   },
   "source": [
    "## Model 5 - with reduced filter size(2,2,2)"
   ]
  },
  {
   "cell_type": "code",
   "execution_count": 18,
   "metadata": {},
   "outputs": [],
   "source": [
    "def sample_model_rf():\n",
    "  #write your model here\n",
    "  modelB = Sequential()\n",
    "  modelB.add(Conv3D(64,(2,2,2),padding='same',input_shape=(18,img_width, img_height,3)))\n",
    "  modelB.add(BatchNormalization())\n",
    "  modelB.add(Activation('relu'))\n",
    "  modelB.add(MaxPooling3D(pool_size=(2,2,1), strides=(2,2,1)))\n",
    "\n",
    "  modelB.add(Conv3D(128,(2,2,2),padding='same'))\n",
    "  modelB.add(BatchNormalization())\n",
    "  modelB.add(Activation('relu'))\n",
    "  #model.add(MaxPooling3D(pool_size=(2,2,2), strides=(2,2,1)))\n",
    "  modelB.add(MaxPooling3D(pool_size=(2, 2, 2), strides=(2, 2, 2)))\n",
    "\n",
    "  modelB.add(Conv3D(256,(2,2,2),padding='same'))\n",
    "  modelB.add(BatchNormalization())\n",
    "  modelB.add(Activation('relu'))\n",
    "  modelB.add(MaxPooling3D(pool_size=(2, 2,2), strides=(2,2,2)))\n",
    "\n",
    "  modelB.add(Conv3D(256,(2,2,2),padding='same'))\n",
    "  modelB.add(BatchNormalization())\n",
    "  modelB.add(Activation('relu'))\n",
    "  modelB.add(MaxPooling3D(pool_size=(2, 2,2), strides=(2,2,2)))\n",
    "\n",
    "  modelB.add(Flatten())\n",
    "  modelB.add(Dropout(0.25))\n",
    "  modelB.add(Dense(512, activation = 'relu'))\n",
    "  #model.add(Activation('elu'))\n",
    "  #modelB.add(Dropout(0.25))\n",
    "  #model.add(Dense(len(class_names)))\n",
    "  modelB.add(Dense(5,activation = 'softmax'))\n",
    "\n",
    "  optimiser = tf.keras.optimizers.SGD(learning_rate=0.001,momentum=0.9,nesterov=True)\n",
    "  #,weight_decay=None,clipnorm=None,clipvalue=None,global_clipnorm=None,use_ema=False,ema_momentum=0.99,ema_overwrite_frequency=None,jit_compile=True,) #write your optimizer\n",
    "  modelB.compile(optimizer=optimiser, loss='categorical_crossentropy', metrics=['categorical_accuracy'])\n",
    "  #print (modelA.summary())\n",
    "  return modelB\n",
    "\n",
    "  "
   ]
  },
  {
   "cell_type": "code",
   "execution_count": 19,
   "metadata": {
    "colab": {
     "base_uri": "https://localhost:8080/"
    },
    "id": "eqnIBWtTP926",
    "outputId": "02e200bd-aa09-4ba0-d86b-791a8f792134"
   },
   "outputs": [
    {
     "name": "stdout",
     "output_type": "stream",
     "text": [
      "No of Frames Used 18\n",
      "Model: \"sequential_2\"\n",
      "_________________________________________________________________\n",
      " Layer (type)                Output Shape              Param #   \n",
      "=================================================================\n",
      " conv3d_8 (Conv3D)           (None, 18, 160, 160, 64)  1600      \n",
      "                                                                 \n",
      " batch_normalization_8 (Batc  (None, 18, 160, 160, 64)  256      \n",
      " hNormalization)                                                 \n",
      "                                                                 \n",
      " activation_8 (Activation)   (None, 18, 160, 160, 64)  0         \n",
      "                                                                 \n",
      " max_pooling3d_8 (MaxPooling  (None, 9, 80, 160, 64)   0         \n",
      " 3D)                                                             \n",
      "                                                                 \n",
      " conv3d_9 (Conv3D)           (None, 9, 80, 160, 128)   65664     \n",
      "                                                                 \n",
      " batch_normalization_9 (Batc  (None, 9, 80, 160, 128)  512       \n",
      " hNormalization)                                                 \n",
      "                                                                 \n",
      " activation_9 (Activation)   (None, 9, 80, 160, 128)   0         \n",
      "                                                                 \n",
      " max_pooling3d_9 (MaxPooling  (None, 4, 40, 80, 128)   0         \n",
      " 3D)                                                             \n",
      "                                                                 \n",
      " conv3d_10 (Conv3D)          (None, 4, 40, 80, 256)    262400    \n",
      "                                                                 \n",
      " batch_normalization_10 (Bat  (None, 4, 40, 80, 256)   1024      \n",
      " chNormalization)                                                \n",
      "                                                                 \n",
      " activation_10 (Activation)  (None, 4, 40, 80, 256)    0         \n",
      "                                                                 \n",
      " max_pooling3d_10 (MaxPoolin  (None, 2, 20, 40, 256)   0         \n",
      " g3D)                                                            \n",
      "                                                                 \n",
      " conv3d_11 (Conv3D)          (None, 2, 20, 40, 256)    524544    \n",
      "                                                                 \n",
      " batch_normalization_11 (Bat  (None, 2, 20, 40, 256)   1024      \n",
      " chNormalization)                                                \n",
      "                                                                 \n",
      " activation_11 (Activation)  (None, 2, 20, 40, 256)    0         \n",
      "                                                                 \n",
      " max_pooling3d_11 (MaxPoolin  (None, 1, 10, 20, 256)   0         \n",
      " g3D)                                                            \n",
      "                                                                 \n",
      " flatten_2 (Flatten)         (None, 51200)             0         \n",
      "                                                                 \n",
      " dropout_2 (Dropout)         (None, 51200)             0         \n",
      "                                                                 \n",
      " dense_4 (Dense)             (None, 512)               26214912  \n",
      "                                                                 \n",
      " dense_5 (Dense)             (None, 5)                 2565      \n",
      "                                                                 \n",
      "=================================================================\n",
      "Total params: 27,074,501\n",
      "Trainable params: 27,073,093\n",
      "Non-trainable params: 1,408\n",
      "_________________________________________________________________\n",
      "Source path =  /home/datasets/Project_data/train ; batch size = 8\n",
      "Epoch 1/25\n",
      "83/83 [==============================] - ETA: 0s - loss: 2.8879 - categorical_accuracy: 0.3446Source path =  /home/datasets/Project_data/val ; batch size = 8\n",
      "\n",
      "Epoch 00001: saving model to model_init_2023-09-0608_46_15.195147/model-00001-2.88791-0.34465-2.02832-0.17000.h5\n",
      "83/83 [==============================] - 103s 1s/step - loss: 2.8879 - categorical_accuracy: 0.3446 - val_loss: 2.0283 - val_categorical_accuracy: 0.1700 - lr: 0.0010\n",
      "Epoch 2/25\n",
      "83/83 [==============================] - ETA: 0s - loss: 1.1260 - categorical_accuracy: 0.5332\n",
      "Epoch 00002: saving model to model_init_2023-09-0608_46_15.195147/model-00002-1.12600-0.53318-3.57650-0.17000.h5\n",
      "83/83 [==============================] - 91s 1s/step - loss: 1.1260 - categorical_accuracy: 0.5332 - val_loss: 3.5765 - val_categorical_accuracy: 0.1700 - lr: 0.0010\n",
      "Epoch 3/25\n",
      "83/83 [==============================] - ETA: 0s - loss: 0.8271 - categorical_accuracy: 0.6667\n",
      "Epoch 00003: saving model to model_init_2023-09-0608_46_15.195147/model-00003-0.82707-0.66667-5.09414-0.14000.h5\n",
      "83/83 [==============================] - 91s 1s/step - loss: 0.8271 - categorical_accuracy: 0.6667 - val_loss: 5.0941 - val_categorical_accuracy: 0.1400 - lr: 0.0010\n",
      "Epoch 4/25\n",
      "83/83 [==============================] - ETA: 0s - loss: 0.6585 - categorical_accuracy: 0.7413\n",
      "Epoch 00004: saving model to model_init_2023-09-0608_46_15.195147/model-00004-0.65853-0.74133-2.78932-0.25000.h5\n",
      "83/83 [==============================] - 92s 1s/step - loss: 0.6585 - categorical_accuracy: 0.7413 - val_loss: 2.7893 - val_categorical_accuracy: 0.2500 - lr: 0.0010\n",
      "Epoch 5/25\n",
      "83/83 [==============================] - ETA: 0s - loss: 0.4933 - categorical_accuracy: 0.8009\n",
      "Epoch 00005: saving model to model_init_2023-09-0608_46_15.195147/model-00005-0.49327-0.80090-3.78262-0.31000.h5\n",
      "\n",
      "Epoch 00005: ReduceLROnPlateau reducing learning rate to 0.00020000000949949026.\n",
      "83/83 [==============================] - 93s 1s/step - loss: 0.4933 - categorical_accuracy: 0.8009 - val_loss: 3.7826 - val_categorical_accuracy: 0.3100 - lr: 0.0010\n",
      "Epoch 00005: early stopping\n"
     ]
    }
   ],
   "source": [
    "img_width = 160\n",
    "img_height = 160\n",
    "batch_size=8\n",
    "num_epochs = 25\n",
    "img_idx=[0,1,2,4,5,7,9,11,13,14,15,17,19,21,23,25,27,29] #,2,3,4,5,6,7,8,9,10,11,12,13,14,15,16,17]\n",
    "print(\"No of Frames Used\", len(img_idx))\n",
    "modelE = sample_model_rf()\n",
    "modelE.summary()\n",
    "#print(model)\n",
    "model5=train_model(modelE,batch_size, True)"
   ]
  },
  {
   "cell_type": "code",
   "execution_count": null,
   "metadata": {},
   "outputs": [],
   "source": []
  },
  {
   "cell_type": "code",
   "execution_count": 20,
   "metadata": {},
   "outputs": [
    {
     "name": "stdout",
     "output_type": "stream",
     "text": [
      "dict_keys(['loss', 'categorical_accuracy', 'val_loss', 'val_categorical_accuracy', 'lr'])\n"
     ]
    },
    {
     "data": {
      "image/png": "[encoded data removed]",
      "text/plain": [
       "<Figure size 432x288 with 1 Axes>"
      ]
     },
     "metadata": {
      "needs_background": "light"
     },
     "output_type": "display_data"
    },
    {
     "data": {
      "image/png": "[encoded data removed]",
      "text/plain": [
       "<Figure size 432x288 with 1 Axes>"
      ]
     },
     "metadata": {
      "needs_background": "light"
     },
     "output_type": "display_data"
    }
   ],
   "source": [
    "plot_loss_accuracy(model5)"
   ]
  },
  {
   "cell_type": "markdown",
   "metadata": {},
   "source": [
    "This model provided different variety of results like below but with the above run, the model is over fitting\n",
    " - Model Overfitting\n",
    " - Model ended-up saying Out of Memory\n",
    " - As I m using early stop mechanism with patience set to 5, the model is not improving w.r.t to validation loss, so it stopped training with 5-7 echos only( so results in write-up and notebook may vary)\n"
   ]
  },
  {
   "cell_type": "markdown",
   "metadata": {},
   "source": [
    "## Model 6 - CNN with LSTM"
   ]
  },
  {
   "cell_type": "code",
   "execution_count": 24,
   "metadata": {},
   "outputs": [],
   "source": [
    "def sample_model_LSTM():\n",
    "    #write your model here\n",
    "    modelE = Sequential()\n",
    "    modelE.add(TimeDistributed(Conv2D(64,(3,3),padding='same',input_shape=(18,img_width, img_height,3))))\n",
    "    modelE.add(TimeDistributed(BatchNormalization()))\n",
    "    modelE.add(TimeDistributed(Activation('relu')))\n",
    "    modelE.add(TimeDistributed(MaxPooling2D((2,2))))\n",
    "\n",
    "    modelE.add(TimeDistributed(Conv2D(128,(2,2),padding='same')))\n",
    "    modelE.add(TimeDistributed(BatchNormalization()))\n",
    "    modelE.add(TimeDistributed(Activation('relu')))\n",
    "    #model.add(MaxPooling3D(pool_size=(2,2,2), strides=(2,2,1)))\n",
    "    modelE.add(TimeDistributed(MaxPooling2D((2,2))))\n",
    "\n",
    "    modelE.add(TimeDistributed(Conv2D(256,(3,3),padding='same')))\n",
    "    modelE.add(TimeDistributed(BatchNormalization()))\n",
    "    modelE.add(TimeDistributed(Activation('relu')))\n",
    "    modelE.add(TimeDistributed(MaxPooling2D((2,2))))\n",
    "\n",
    "    modelE.add(TimeDistributed(Conv2D(256,(3,3),padding='same')))\n",
    "    modelE.add(TimeDistributed(BatchNormalization()))\n",
    "    modelE.add(TimeDistributed(Activation('relu')))\n",
    "    modelE.add(TimeDistributed(MaxPooling2D((2,2))))\n",
    "\n",
    "    modelE.add(TimeDistributed(Flatten()))\n",
    "    modelE.add(LSTM(64))\n",
    "    modelE.add(Dropout(0.5))\n",
    "    modelE.add(Dense(512, activation = 'relu'))\n",
    "    #modelE.add(Dropout(0.5))\n",
    "    modelE.add(Dense(5,activation = 'softmax'))\n",
    "    \n",
    "    \n",
    "    #After Model Building Code Block\n",
    "    #optimiser = optimizers.SGD(learning_rate=0.001,momentum=0.9,nesterov=True)\n",
    "    optimiser = tf.keras.optimizers.SGD(learning_rate=0.001,momentum=0.9,nesterov=True)\n",
    "    #,weight_decay=None,clipnorm=None,clipvalue=None,global_clipnorm=None,use_ema=False,ema_momentum=0.99,ema_overwrite_frequency=None,jit_compile=True,) #write your optimizer\n",
    "    modelE.compile(optimizer=optimiser, loss='categorical_crossentropy', metrics=['categorical_accuracy'])#\n",
    "    #print(modelE.summary())\n",
    "    return modelE\n"
   ]
  },
  {
   "cell_type": "code",
   "execution_count": 29,
   "metadata": {},
   "outputs": [
    {
     "name": "stdout",
     "output_type": "stream",
     "text": [
      "No of Frames Used 18\n",
      "Source path =  /home/datasets/Project_data/train ; batch size = 8\n",
      "Epoch 1/25\n",
      "83/83 [==============================] - ETA: 0s - loss: 1.5888 - categorical_accuracy: 0.2496Source path =  /home/datasets/Project_data/val ; batch size = 8\n",
      "\n",
      "Epoch 00001: saving model to model_init_2023-09-0609_57_57.622262/model-00001-1.58883-0.24962-1.65060-0.16000.h5\n",
      "83/83 [==============================] - 93s 1s/step - loss: 1.5888 - categorical_accuracy: 0.2496 - val_loss: 1.6506 - val_categorical_accuracy: 0.1600 - lr: 0.0010\n",
      "Epoch 2/25\n",
      "83/83 [==============================] - ETA: 0s - loss: 1.4292 - categorical_accuracy: 0.4261\n",
      "Epoch 00002: saving model to model_init_2023-09-0609_57_57.622262/model-00002-1.42923-0.42609-1.86543-0.18000.h5\n",
      "83/83 [==============================] - 88s 1s/step - loss: 1.4292 - categorical_accuracy: 0.4261 - val_loss: 1.8654 - val_categorical_accuracy: 0.1800 - lr: 0.0010\n",
      "Epoch 3/25\n",
      "83/83 [==============================] - ETA: 0s - loss: 1.2721 - categorical_accuracy: 0.5241\n",
      "Epoch 00003: saving model to model_init_2023-09-0609_57_57.622262/model-00003-1.27214-0.52413-1.95966-0.17000.h5\n",
      "83/83 [==============================] - 87s 1s/step - loss: 1.2721 - categorical_accuracy: 0.5241 - val_loss: 1.9597 - val_categorical_accuracy: 0.1700 - lr: 0.0010\n",
      "Epoch 4/25\n",
      "83/83 [==============================] - ETA: 0s - loss: 1.0836 - categorical_accuracy: 0.6033\n",
      "Epoch 00004: saving model to model_init_2023-09-0609_57_57.622262/model-00004-1.08362-0.60332-2.54132-0.18000.h5\n",
      "83/83 [==============================] - 87s 1s/step - loss: 1.0836 - categorical_accuracy: 0.6033 - val_loss: 2.5413 - val_categorical_accuracy: 0.1800 - lr: 0.0010\n",
      "Epoch 5/25\n",
      "83/83 [==============================] - ETA: 0s - loss: 0.9541 - categorical_accuracy: 0.6712\n",
      "Epoch 00005: saving model to model_init_2023-09-0609_57_57.622262/model-00005-0.95413-0.67119-2.15983-0.27000.h5\n",
      "\n",
      "Epoch 00005: ReduceLROnPlateau reducing learning rate to 0.00020000000949949026.\n",
      "83/83 [==============================] - 86s 1s/step - loss: 0.9541 - categorical_accuracy: 0.6712 - val_loss: 2.1598 - val_categorical_accuracy: 0.2700 - lr: 0.0010\n",
      "Epoch 6/25\n",
      "83/83 [==============================] - ETA: 0s - loss: 0.8600 - categorical_accuracy: 0.7036\n",
      "Epoch 00006: saving model to model_init_2023-09-0609_57_57.622262/model-00006-0.85995-0.70362-1.90613-0.32000.h5\n",
      "83/83 [==============================] - 88s 1s/step - loss: 0.8600 - categorical_accuracy: 0.7036 - val_loss: 1.9061 - val_categorical_accuracy: 0.3200 - lr: 2.0000e-04\n",
      "Epoch 00006: early stopping\n",
      "Model: \"sequential_6\"\n",
      "_________________________________________________________________\n",
      " Layer (type)                Output Shape              Param #   \n",
      "=================================================================\n",
      " time_distributed_51 (TimeDi  (None, None, None, None,  1792     \n",
      " stributed)                   64)                                \n",
      "                                                                 \n",
      " time_distributed_52 (TimeDi  (None, None, None, None,  256      \n",
      " stributed)                   64)                                \n",
      "                                                                 \n",
      " time_distributed_53 (TimeDi  (None, None, None, None,  0        \n",
      " stributed)                   64)                                \n",
      "                                                                 \n",
      " time_distributed_54 (TimeDi  (None, None, None, None,  0        \n",
      " stributed)                   64)                                \n",
      "                                                                 \n",
      " time_distributed_55 (TimeDi  (None, None, None, None,  32896    \n",
      " stributed)                   128)                               \n",
      "                                                                 \n",
      " time_distributed_56 (TimeDi  (None, None, None, None,  512      \n",
      " stributed)                   128)                               \n",
      "                                                                 \n",
      " time_distributed_57 (TimeDi  (None, None, None, None,  0        \n",
      " stributed)                   128)                               \n",
      "                                                                 \n",
      " time_distributed_58 (TimeDi  (None, None, None, None,  0        \n",
      " stributed)                   128)                               \n",
      "                                                                 \n",
      " time_distributed_59 (TimeDi  (None, None, None, None,  295168   \n",
      " stributed)                   256)                               \n",
      "                                                                 \n",
      " time_distributed_60 (TimeDi  (None, None, None, None,  1024     \n",
      " stributed)                   256)                               \n",
      "                                                                 \n",
      " time_distributed_61 (TimeDi  (None, None, None, None,  0        \n",
      " stributed)                   256)                               \n",
      "                                                                 \n",
      " time_distributed_62 (TimeDi  (None, None, None, None,  0        \n",
      " stributed)                   256)                               \n",
      "                                                                 \n",
      " time_distributed_63 (TimeDi  (None, None, None, None,  590080   \n",
      " stributed)                   256)                               \n",
      "                                                                 \n",
      " time_distributed_64 (TimeDi  (None, None, None, None,  1024     \n",
      " stributed)                   256)                               \n",
      "                                                                 \n",
      " time_distributed_65 (TimeDi  (None, None, None, None,  0        \n",
      " stributed)                   256)                               \n",
      "                                                                 \n",
      " time_distributed_66 (TimeDi  (None, None, None, None,  0        \n",
      " stributed)                   256)                               \n",
      "                                                                 \n",
      " time_distributed_67 (TimeDi  (None, None, None)       0         \n",
      " stributed)                                                      \n",
      "                                                                 \n",
      " lstm_2 (LSTM)               (None, 64)                6570240   \n",
      "                                                                 \n",
      " dropout_6 (Dropout)         (None, 64)                0         \n",
      "                                                                 \n",
      " dense_12 (Dense)            (None, 512)               33280     \n",
      "                                                                 \n",
      " dense_13 (Dense)            (None, 5)                 2565      \n",
      "                                                                 \n",
      "=================================================================\n",
      "Total params: 7,528,837\n",
      "Trainable params: 7,527,429\n",
      "Non-trainable params: 1,408\n",
      "_________________________________________________________________\n"
     ]
    }
   ],
   "source": [
    "img_width = 160\n",
    "img_height = 160\n",
    "batch_size=8\n",
    "num_epochs = 25\n",
    "img_idx=[0,1,2,3,4,5,7,9,11,13,15,17,19,21,23,25,27,29] #,2,3,4,5,6,7,8,9,10,11,12,13,14,15,16,17]\n",
    "print(\"No of Frames Used\", len(img_idx))\n",
    "modelF = sample_model_LSTM()\n",
    "#model.summary()\n",
    "model6=train_model(modelF,batch_size, True)\n",
    "modelF.summary()"
   ]
  },
  {
   "cell_type": "code",
   "execution_count": 30,
   "metadata": {},
   "outputs": [
    {
     "name": "stdout",
     "output_type": "stream",
     "text": [
      "dict_keys(['loss', 'categorical_accuracy', 'val_loss', 'val_categorical_accuracy', 'lr'])\n"
     ]
    },
    {
     "data": {
      "image/png": "[encoded data removed]",
      "text/plain": [
       "<Figure size 432x288 with 1 Axes>"
      ]
     },
     "metadata": {
      "needs_background": "light"
     },
     "output_type": "display_data"
    },
    {
     "data": {
      "image/png": "[encoded data removed]",
      "text/plain": [
       "<Figure size 432x288 with 1 Axes>"
      ]
     },
     "metadata": {
      "needs_background": "light"
     },
     "output_type": "display_data"
    }
   ],
   "source": [
    "plot_loss_accuracy(model6)"
   ]
  },
  {
   "cell_type": "markdown",
   "metadata": {},
   "source": [
    "**Model is overfitting but the trainable parameters have come down, lets try with GRU**"
   ]
  },
  {
   "cell_type": "markdown",
   "metadata": {},
   "source": [
    "## Model 7 - CNN+ GRU"
   ]
  },
  {
   "cell_type": "code",
   "execution_count": 26,
   "metadata": {},
   "outputs": [],
   "source": [
    "def sample_model_GRU():\n",
    "    #write your model here\n",
    "    modelF = Sequential()\n",
    "    modelF.add(TimeDistributed(Conv2D(64,(3,3),padding='same',input_shape=(18,img_width, img_height,3))))\n",
    "    modelF.add(TimeDistributed(BatchNormalization()))\n",
    "    modelF.add(TimeDistributed(Activation('relu')))\n",
    "    modelF.add(TimeDistributed(MaxPooling2D((2,2))))\n",
    "\n",
    "    modelF.add(TimeDistributed(Conv2D(128,(2,2),padding='same')))\n",
    "    modelF.add(TimeDistributed(BatchNormalization()))\n",
    "    modelF.add(TimeDistributed(Activation('relu')))\n",
    "    #model.add(MaxPooling3D(pool_size=(2,2,2), strides=(2,2,1)))\n",
    "    modelF.add(TimeDistributed(MaxPooling2D((2,2))))\n",
    "\n",
    "    modelF.add(TimeDistributed(Conv2D(256,(3,3),padding='same')))\n",
    "    modelF.add(TimeDistributed(BatchNormalization()))\n",
    "    modelF.add(TimeDistributed(Activation('relu')))\n",
    "    modelF.add(TimeDistributed(MaxPooling2D((2,2))))\n",
    "\n",
    "    modelF.add(TimeDistributed(Conv2D(256,(3,3),padding='same')))\n",
    "    modelF.add(TimeDistributed(BatchNormalization()))\n",
    "    modelF.add(TimeDistributed(Activation('relu')))\n",
    "    modelF.add(TimeDistributed(MaxPooling2D((2,2))))\n",
    "\n",
    "    modelF.add(TimeDistributed(Flatten()))\n",
    "    modelF.add(GRU(64))\n",
    "    modelF.add(Dropout(0.5))\n",
    "    modelF.add(Dense(512, activation = 'relu'))\n",
    "    #modelF.add(Dropout(0.25))\n",
    "    modelF.add(Dense(5,activation = 'softmax'))\n",
    "    \n",
    "    #After Model Building Code Block\n",
    "    #optimiser = optimizers.SGD(learning_rate=0.001,momentum=0.9,nesterov=True)\n",
    "    optimiser = tf.keras.optimizers.SGD(learning_rate=0.001,momentum=0.9,nesterov=True)\n",
    "    #,weight_decay=None,clipnorm=None,clipvalue=None,global_clipnorm=None,use_ema=False,ema_momentum=0.99,ema_overwrite_frequency=None,jit_compile=True,) #write your optimizer\n",
    "    modelF.compile(optimizer=optimiser, loss='categorical_crossentropy', metrics=['categorical_accuracy'])#\n",
    "    #print(modelE.summary())\n",
    "    return modelF\n"
   ]
  },
  {
   "cell_type": "code",
   "execution_count": 27,
   "metadata": {},
   "outputs": [
    {
     "name": "stdout",
     "output_type": "stream",
     "text": [
      "No of Frames Used 18\n",
      "Source path =  /home/datasets/Project_data/train ; batch size = 8\n",
      "Epoch 1/25\n",
      "83/83 [==============================] - ETA: 0s - loss: 1.5128 - categorical_accuracy: 0.3265Source path =  /home/datasets/Project_data/val ; batch size = 8\n",
      "\n",
      "Epoch 00001: saving model to model_init_2023-09-0609_18_37.393416/model-00001-1.51284-0.32655-2.03460-0.23000.h5\n",
      "83/83 [==============================] - 103s 1s/step - loss: 1.5128 - categorical_accuracy: 0.3265 - val_loss: 2.0346 - val_categorical_accuracy: 0.2300 - lr: 0.0010\n",
      "Epoch 2/25\n",
      "83/83 [==============================] - ETA: 0s - loss: 1.3015 - categorical_accuracy: 0.4540\n",
      "Epoch 00002: saving model to model_init_2023-09-0609_18_37.393416/model-00002-1.30149-0.45400-2.49593-0.18000.h5\n",
      "83/83 [==============================] - 98s 1s/step - loss: 1.3015 - categorical_accuracy: 0.4540 - val_loss: 2.4959 - val_categorical_accuracy: 0.1800 - lr: 0.0010\n",
      "Epoch 3/25\n",
      "83/83 [==============================] - ETA: 0s - loss: 1.1394 - categorical_accuracy: 0.5581\n",
      "Epoch 00003: saving model to model_init_2023-09-0609_18_37.393416/model-00003-1.13942-0.55807-3.10556-0.22000.h5\n",
      "83/83 [==============================] - 97s 1s/step - loss: 1.1394 - categorical_accuracy: 0.5581 - val_loss: 3.1056 - val_categorical_accuracy: 0.2200 - lr: 0.0010\n",
      "Epoch 4/25\n",
      "83/83 [==============================] - ETA: 0s - loss: 1.0086 - categorical_accuracy: 0.6086\n",
      "Epoch 00004: saving model to model_init_2023-09-0609_18_37.393416/model-00004-1.00858-0.60860-3.02511-0.19000.h5\n",
      "83/83 [==============================] - 95s 1s/step - loss: 1.0086 - categorical_accuracy: 0.6086 - val_loss: 3.0251 - val_categorical_accuracy: 0.1900 - lr: 0.0010\n",
      "Epoch 5/25\n",
      "83/83 [==============================] - ETA: 0s - loss: 0.8980 - categorical_accuracy: 0.6531\n",
      "Epoch 00005: saving model to model_init_2023-09-0609_18_37.393416/model-00005-0.89797-0.65309-2.16853-0.26000.h5\n",
      "\n",
      "Epoch 00005: ReduceLROnPlateau reducing learning rate to 0.00020000000949949026.\n",
      "83/83 [==============================] - 87s 1s/step - loss: 0.8980 - categorical_accuracy: 0.6531 - val_loss: 2.1685 - val_categorical_accuracy: 0.2600 - lr: 0.0010\n",
      "Epoch 6/25\n",
      "83/83 [==============================] - ETA: 0s - loss: 0.7648 - categorical_accuracy: 0.7293\n",
      "Epoch 00006: saving model to model_init_2023-09-0609_18_37.393416/model-00006-0.76482-0.72926-1.82030-0.36000.h5\n",
      "83/83 [==============================] - 86s 1s/step - loss: 0.7648 - categorical_accuracy: 0.7293 - val_loss: 1.8203 - val_categorical_accuracy: 0.3600 - lr: 2.0000e-04\n",
      "Epoch 7/25\n",
      "83/83 [==============================] - ETA: 0s - loss: 0.6550 - categorical_accuracy: 0.7798\n",
      "Epoch 00007: saving model to model_init_2023-09-0609_18_37.393416/model-00007-0.65504-0.77979-1.17455-0.54000.h5\n",
      "83/83 [==============================] - 86s 1s/step - loss: 0.6550 - categorical_accuracy: 0.7798 - val_loss: 1.1745 - val_categorical_accuracy: 0.5400 - lr: 2.0000e-04\n",
      "Epoch 8/25\n",
      "83/83 [==============================] - ETA: 0s - loss: 0.5978 - categorical_accuracy: 0.8009\n",
      "Epoch 00008: saving model to model_init_2023-09-0609_18_37.393416/model-00008-0.59781-0.80090-0.96499-0.65000.h5\n",
      "83/83 [==============================] - 86s 1s/step - loss: 0.5978 - categorical_accuracy: 0.8009 - val_loss: 0.9650 - val_categorical_accuracy: 0.6500 - lr: 2.0000e-04\n",
      "Epoch 9/25\n",
      "83/83 [==============================] - ETA: 0s - loss: 0.5746 - categorical_accuracy: 0.8100\n",
      "Epoch 00009: saving model to model_init_2023-09-0609_18_37.393416/model-00009-0.57460-0.80995-0.56849-0.77000.h5\n",
      "83/83 [==============================] - 86s 1s/step - loss: 0.5746 - categorical_accuracy: 0.8100 - val_loss: 0.5685 - val_categorical_accuracy: 0.7700 - lr: 2.0000e-04\n",
      "Epoch 10/25\n",
      "83/83 [==============================] - ETA: 0s - loss: 0.5225 - categorical_accuracy: 0.8333\n",
      "Epoch 00010: saving model to model_init_2023-09-0609_18_37.393416/model-00010-0.52252-0.83333-0.57689-0.78000.h5\n",
      "83/83 [==============================] - 86s 1s/step - loss: 0.5225 - categorical_accuracy: 0.8333 - val_loss: 0.5769 - val_categorical_accuracy: 0.7800 - lr: 2.0000e-04\n",
      "Epoch 11/25\n",
      "83/83 [==============================] - ETA: 0s - loss: 0.5314 - categorical_accuracy: 0.8243\n",
      "Epoch 00011: saving model to model_init_2023-09-0609_18_37.393416/model-00011-0.53140-0.82428-0.49987-0.84000.h5\n",
      "83/83 [==============================] - 86s 1s/step - loss: 0.5314 - categorical_accuracy: 0.8243 - val_loss: 0.4999 - val_categorical_accuracy: 0.8400 - lr: 2.0000e-04\n",
      "Epoch 12/25\n",
      "83/83 [==============================] - ETA: 0s - loss: 0.4718 - categorical_accuracy: 0.8544\n",
      "Epoch 00012: saving model to model_init_2023-09-0609_18_37.393416/model-00012-0.47179-0.85445-0.54531-0.82000.h5\n",
      "83/83 [==============================] - 86s 1s/step - loss: 0.4718 - categorical_accuracy: 0.8544 - val_loss: 0.5453 - val_categorical_accuracy: 0.8200 - lr: 2.0000e-04\n",
      "Epoch 13/25\n",
      "83/83 [==============================] - ETA: 0s - loss: 0.4606 - categorical_accuracy: 0.8673\n",
      "Epoch 00013: saving model to model_init_2023-09-0609_18_37.393416/model-00013-0.46058-0.86727-0.51325-0.83000.h5\n",
      "83/83 [==============================] - 85s 1s/step - loss: 0.4606 - categorical_accuracy: 0.8673 - val_loss: 0.5132 - val_categorical_accuracy: 0.8300 - lr: 2.0000e-04\n",
      "Epoch 14/25\n",
      "83/83 [==============================] - ETA: 0s - loss: 0.4195 - categorical_accuracy: 0.8763\n",
      "Epoch 00014: saving model to model_init_2023-09-0609_18_37.393416/model-00014-0.41953-0.87632-0.47741-0.87000.h5\n",
      "83/83 [==============================] - 86s 1s/step - loss: 0.4195 - categorical_accuracy: 0.8763 - val_loss: 0.4774 - val_categorical_accuracy: 0.8700 - lr: 2.0000e-04\n",
      "Epoch 15/25\n",
      "83/83 [==============================] - ETA: 0s - loss: 0.3873 - categorical_accuracy: 0.8801\n",
      "Epoch 00015: saving model to model_init_2023-09-0609_18_37.393416/model-00015-0.38726-0.88009-0.63153-0.81000.h5\n",
      "83/83 [==============================] - 86s 1s/step - loss: 0.3873 - categorical_accuracy: 0.8801 - val_loss: 0.6315 - val_categorical_accuracy: 0.8100 - lr: 2.0000e-04\n",
      "Epoch 16/25\n",
      "83/83 [==============================] - ETA: 0s - loss: 0.3345 - categorical_accuracy: 0.9057\n",
      "Epoch 00016: saving model to model_init_2023-09-0609_18_37.393416/model-00016-0.33450-0.90573-0.41967-0.85000.h5\n",
      "83/83 [==============================] - 85s 1s/step - loss: 0.3345 - categorical_accuracy: 0.9057 - val_loss: 0.4197 - val_categorical_accuracy: 0.8500 - lr: 2.0000e-04\n",
      "Epoch 17/25\n",
      "83/83 [==============================] - ETA: 0s - loss: 0.3524 - categorical_accuracy: 0.8891\n",
      "Epoch 00017: saving model to model_init_2023-09-0609_18_37.393416/model-00017-0.35236-0.88914-0.54275-0.82000.h5\n",
      "83/83 [==============================] - 85s 1s/step - loss: 0.3524 - categorical_accuracy: 0.8891 - val_loss: 0.5428 - val_categorical_accuracy: 0.8200 - lr: 2.0000e-04\n",
      "Epoch 18/25\n",
      "83/83 [==============================] - ETA: 0s - loss: 0.3254 - categorical_accuracy: 0.9065\n",
      "Epoch 00018: saving model to model_init_2023-09-0609_18_37.393416/model-00018-0.32536-0.90649-0.49144-0.87000.h5\n",
      "83/83 [==============================] - 87s 1s/step - loss: 0.3254 - categorical_accuracy: 0.9065 - val_loss: 0.4914 - val_categorical_accuracy: 0.8700 - lr: 2.0000e-04\n",
      "Epoch 19/25\n",
      "83/83 [==============================] - ETA: 0s - loss: 0.2991 - categorical_accuracy: 0.9208\n",
      "Epoch 00019: saving model to model_init_2023-09-0609_18_37.393416/model-00019-0.29907-0.92081-0.48611-0.81000.h5\n",
      "83/83 [==============================] - 87s 1s/step - loss: 0.2991 - categorical_accuracy: 0.9208 - val_loss: 0.4861 - val_categorical_accuracy: 0.8100 - lr: 2.0000e-04\n",
      "Epoch 20/25\n",
      "83/83 [==============================] - ETA: 0s - loss: 0.3169 - categorical_accuracy: 0.8974\n",
      "Epoch 00020: saving model to model_init_2023-09-0609_18_37.393416/model-00020-0.31694-0.89744-0.40787-0.87000.h5\n",
      "83/83 [==============================] - 86s 1s/step - loss: 0.3169 - categorical_accuracy: 0.8974 - val_loss: 0.4079 - val_categorical_accuracy: 0.8700 - lr: 2.0000e-04\n",
      "Epoch 21/25\n",
      "83/83 [==============================] - ETA: 0s - loss: 0.2977 - categorical_accuracy: 0.9163\n",
      "Epoch 00021: saving model to model_init_2023-09-0609_18_37.393416/model-00021-0.29770-0.91629-0.64129-0.79000.h5\n",
      "83/83 [==============================] - 86s 1s/step - loss: 0.2977 - categorical_accuracy: 0.9163 - val_loss: 0.6413 - val_categorical_accuracy: 0.7900 - lr: 2.0000e-04\n",
      "Epoch 22/25\n",
      "83/83 [==============================] - ETA: 0s - loss: 0.2641 - categorical_accuracy: 0.9306\n",
      "Epoch 00024: saving model to model_init_2023-09-0609_18_37.393416/model-00024-0.26411-0.93062-0.72457-0.75000.h5\n",
      "83/83 [==============================] - 87s 1s/step - loss: 0.2641 - categorical_accuracy: 0.9306 - val_loss: 0.7246 - val_categorical_accuracy: 0.7500 - lr: 2.0000e-04\n",
      "Epoch 25/25\n",
      "83/83 [==============================] - ETA: 0s - loss: 0.2340 - categorical_accuracy: 0.9359\n",
      "Epoch 00025: saving model to model_init_2023-09-0609_18_37.393416/model-00025-0.23398-0.93590-0.51176-0.84000.h5\n",
      "83/83 [==============================] - 88s 1s/step - loss: 0.2340 - categorical_accuracy: 0.9359 - val_loss: 0.5118 - val_categorical_accuracy: 0.8400 - lr: 2.0000e-04\n",
      "Model: \"sequential_5\"\n",
      "_________________________________________________________________\n",
      " Layer (type)                Output Shape              Param #   \n",
      "=================================================================\n",
      " time_distributed_34 (TimeDi  (None, None, None, None,  1792     \n",
      " stributed)                   64)                                \n",
      "                                                                 \n",
      " time_distributed_35 (TimeDi  (None, None, None, None,  256      \n",
      " stributed)                   64)                                \n",
      "                                                                 \n",
      " time_distributed_36 (TimeDi  (None, None, None, None,  0        \n",
      " stributed)                   64)                                \n",
      "                                                                 \n",
      " time_distributed_37 (TimeDi  (None, None, None, None,  0        \n",
      " stributed)                   64)                                \n",
      "                                                                 \n",
      " time_distributed_38 (TimeDi  (None, None, None, None,  32896    \n",
      " stributed)                   128)                               \n",
      "                                                                 \n",
      " time_distributed_39 (TimeDi  (None, None, None, None,  512      \n",
      " stributed)                   128)                               \n",
      "                                                                 \n",
      " time_distributed_40 (TimeDi  (None, None, None, None,  0        \n",
      " stributed)                   128)                               \n",
      "                                                                 \n",
      " time_distributed_41 (TimeDi  (None, None, None, None,  0        \n",
      " stributed)                   128)                               \n",
      "                                                                 \n",
      " time_distributed_42 (TimeDi  (None, None, None, None,  295168   \n",
      " stributed)                   256)                               \n",
      "                                                                 \n",
      " time_distributed_43 (TimeDi  (None, None, None, None,  1024     \n",
      " stributed)                   256)                               \n",
      "                                                                 \n",
      " time_distributed_44 (TimeDi  (None, None, None, None,  0        \n",
      " stributed)                   256)                               \n",
      "                                                                 \n",
      " time_distributed_45 (TimeDi  (None, None, None, None,  0        \n",
      " stributed)                   256)                               \n",
      "                                                                 \n",
      " time_distributed_46 (TimeDi  (None, None, None, None,  590080   \n",
      " stributed)                   256)                               \n",
      "                                                                 \n",
      " time_distributed_47 (TimeDi  (None, None, None, None,  1024     \n",
      " stributed)                   256)                               \n",
      "                                                                 \n",
      " time_distributed_48 (TimeDi  (None, None, None, None,  0        \n",
      " stributed)                   256)                               \n",
      "                                                                 \n",
      " time_distributed_49 (TimeDi  (None, None, None, None,  0        \n",
      " stributed)                   256)                               \n",
      "                                                                 \n",
      " time_distributed_50 (TimeDi  (None, None, None)       0         \n",
      " stributed)                                                      \n",
      "                                                                 \n",
      " gru (GRU)                   (None, 64)                4927872   \n",
      "                                                                 \n",
      " dropout_5 (Dropout)         (None, 64)                0         \n",
      "                                                                 \n",
      " dense_10 (Dense)            (None, 512)               33280     \n",
      "                                                                 \n",
      " dense_11 (Dense)            (None, 5)                 2565      \n",
      "                                                                 \n",
      "=================================================================\n",
      "Total params: 5,886,469\n",
      "Trainable params: 5,885,061\n",
      "Non-trainable params: 1,408\n",
      "_________________________________________________________________\n"
     ]
    }
   ],
   "source": [
    "img_width = 160\n",
    "img_height = 160\n",
    "batch_size=8\n",
    "num_epochs = 25\n",
    "img_idx=[0,1,2,3,4,5,7,9,11,13,15,17,19,21,23,25,27,29] #,2,3,4,5,6,7,8,9,10,11,12,13,14,15,16,17]\n",
    "print(\"No of Frames Used\", len(img_idx))\n",
    "model = sample_model_GRU()\n",
    "#model.summary()\n",
    "model7=train_model(model,batch_size, True)\n",
    "model.summary()"
   ]
  },
  {
   "cell_type": "code",
   "execution_count": 28,
   "metadata": {},
   "outputs": [
    {
     "name": "stdout",
     "output_type": "stream",
     "text": [
      "dict_keys(['loss', 'categorical_accuracy', 'val_loss', 'val_categorical_accuracy', 'lr'])\n"
     ]
    },
    {
     "data": {
      "image/png": "[encoded data removed]",
      "text/plain": [
       "<Figure size 432x288 with 1 Axes>"
      ]
     },
     "metadata": {
      "needs_background": "light"
     },
     "output_type": "display_data"
    },
    {
     "data": {
      "image/png": "[encoded data removed]",
      "text/plain": [
       "<Figure size 432x288 with 1 Axes>"
      ]
     },
     "metadata": {
      "needs_background": "light"
     },
     "output_type": "display_data"
    }
   ],
   "source": [
    "plot_loss_accuracy(model7)"
   ]
  },
  {
   "cell_type": "markdown",
   "metadata": {},
   "source": [
    "**With Conv2D+GRU, the model performance is Good with training – 0.8974 and val -0.8700 with validation loss 0.4, also the no. of trainable parameters here is significally less than the Conv3D Model 4 above**\n"
   ]
  },
  {
   "cell_type": "code",
   "execution_count": null,
   "metadata": {},
   "outputs": [],
   "source": []
  },
  {
   "cell_type": "markdown",
   "metadata": {},
   "source": [
    "## Model 8 -- with all frames"
   ]
  },
  {
   "cell_type": "code",
   "execution_count": null,
   "metadata": {},
   "outputs": [],
   "source": [
    "img_width = 160\n",
    "img_height = 160\n",
    "batch_size=8\n",
    "num_epochs = 25\n",
    "img_idx=[0,1,2,3,4,5,6,7,8,9,10,11,12,13,14,15,16,17,18,19,20,21,22,23,24,25,26,27,28,29] #,2,3,4,5,6,7,8,9,10,11,12,13,14,15,16,17]\n",
    "print(\"No of Frames Used\", len(img_idx))\n",
    "modelh = sample_model()\n",
    "modelh.summary()\n",
    "model8=train_model(modelh,batch_size, True)"
   ]
  },
  {
   "cell_type": "markdown",
   "metadata": {},
   "source": [
    "**With all 30 frames as input, the model threw Outof Memory issue**"
   ]
  },
  {
   "cell_type": "markdown",
   "metadata": {},
   "source": [
    "## Model 9 -- with alternate frames and image size changed to 100x100"
   ]
  },
  {
   "cell_type": "code",
   "execution_count": 27,
   "metadata": {},
   "outputs": [],
   "source": [
    "def sample_model_idropOut():\n",
    "  #write your model here\n",
    "  modelI = Sequential()\n",
    "  modelI.add(Conv3D(64,(3,3,3),padding='same',input_shape=(18,img_width, img_height,3)))\n",
    "  modelI.add(BatchNormalization())\n",
    "  modelI.add(Activation('relu'))\n",
    "  modelI.add(MaxPooling3D(pool_size=(2,2,1), strides=(2,2,1)))\n",
    "\n",
    "  modelI.add(Conv3D(128,(3,3,3),padding='same'))\n",
    "  modelI.add(BatchNormalization())\n",
    "  modelI.add(Activation('relu'))\n",
    "  #model.add(MaxPooling3D(pool_size=(2,2,2), strides=(2,2,1)))\n",
    "  modelI.add(MaxPooling3D(pool_size=(2, 2, 2), strides=(2, 2, 2)))\n",
    "\n",
    "  modelI.add(Conv3D(256,(3,3,3),padding='same'))\n",
    "  modelI.add(BatchNormalization())\n",
    "  modelI.add(Activation('relu'))\n",
    "  modelI.add(MaxPooling3D(pool_size=(2, 2,2), strides=(2,2,2)))\n",
    "\n",
    "  modelI.add(Conv3D(256,(3,3,3),padding='same'))\n",
    "  modelI.add(BatchNormalization())\n",
    "  modelI.add(Activation('relu'))\n",
    "  modelI.add(MaxPooling3D(pool_size=(2, 2,2), strides=(2,2,2)))\n",
    "\n",
    "  modelI.add(Flatten())\n",
    "  modelI.add(Dropout(0.5))\n",
    "  modelI.add(Dense(512, activation = 'relu'))\n",
    "  #model.add(Activation('elu'))\n",
    "  modelI.add(Dropout(0.5))\n",
    "  #model.add(Dense(len(class_names)))\n",
    "  modelI.add(Dense(5,activation = 'softmax'))\n",
    "\n",
    "  optimiser = tf.keras.optimizers.SGD(learning_rate=0.001,momentum=0.9,nesterov=True)\n",
    "  #,weight_decay=None,clipnorm=None,clipvalue=None,global_clipnorm=None,use_ema=False,ema_momentum=0.99,ema_overwrite_frequency=None,jit_compile=True,) #write your optimizer\n",
    "  modelI.compile(optimizer=optimiser, loss='categorical_crossentropy', metrics=['categorical_accuracy'])\n",
    "  #print (modelA.summary())\n",
    "  return modelI"
   ]
  },
  {
   "cell_type": "code",
   "execution_count": 28,
   "metadata": {},
   "outputs": [
    {
     "name": "stdout",
     "output_type": "stream",
     "text": [
      "No of Frames Used 18\n",
      "Model: \"sequential_2\"\n",
      "_________________________________________________________________\n",
      " Layer (type)                Output Shape              Param #   \n",
      "=================================================================\n",
      " conv3d_8 (Conv3D)           (None, 18, 100, 100, 64)  5248      \n",
      "                                                                 \n",
      " batch_normalization_8 (Batc  (None, 18, 100, 100, 64)  256      \n",
      " hNormalization)                                                 \n",
      "                                                                 \n",
      " activation_8 (Activation)   (None, 18, 100, 100, 64)  0         \n",
      "                                                                 \n",
      " max_pooling3d_8 (MaxPooling  (None, 9, 50, 100, 64)   0         \n",
      " 3D)                                                             \n",
      "                                                                 \n",
      " conv3d_9 (Conv3D)           (None, 9, 50, 100, 128)   221312    \n",
      "                                                                 \n",
      " batch_normalization_9 (Batc  (None, 9, 50, 100, 128)  512       \n",
      " hNormalization)                                                 \n",
      "                                                                 \n",
      " activation_9 (Activation)   (None, 9, 50, 100, 128)   0         \n",
      "                                                                 \n",
      " max_pooling3d_9 (MaxPooling  (None, 4, 25, 50, 128)   0         \n",
      " 3D)                                                             \n",
      "                                                                 \n",
      " conv3d_10 (Conv3D)          (None, 4, 25, 50, 256)    884992    \n",
      "                                                                 \n",
      " batch_normalization_10 (Bat  (None, 4, 25, 50, 256)   1024      \n",
      " chNormalization)                                                \n",
      "                                                                 \n",
      " activation_10 (Activation)  (None, 4, 25, 50, 256)    0         \n",
      "                                                                 \n",
      " max_pooling3d_10 (MaxPoolin  (None, 2, 12, 25, 256)   0         \n",
      " g3D)                                                            \n",
      "                                                                 \n",
      " conv3d_11 (Conv3D)          (None, 2, 12, 25, 256)    1769728   \n",
      "                                                                 \n",
      " batch_normalization_11 (Bat  (None, 2, 12, 25, 256)   1024      \n",
      " chNormalization)                                                \n",
      "                                                                 \n",
      " activation_11 (Activation)  (None, 2, 12, 25, 256)    0         \n",
      "                                                                 \n",
      " max_pooling3d_11 (MaxPoolin  (None, 1, 6, 12, 256)    0         \n",
      " g3D)                                                            \n",
      "                                                                 \n",
      " flatten_2 (Flatten)         (None, 18432)             0         \n",
      "                                                                 \n",
      " dropout_3 (Dropout)         (None, 18432)             0         \n",
      "                                                                 \n",
      " dense_4 (Dense)             (None, 512)               9437696   \n",
      "                                                                 \n",
      " dense_5 (Dense)             (None, 5)                 2565      \n",
      "                                                                 \n",
      "=================================================================\n",
      "Total params: 12,324,357\n",
      "Trainable params: 12,322,949\n",
      "Non-trainable params: 1,408\n",
      "_________________________________________________________________\n",
      "Source path =  /home/datasets/Project_data/train ; batch size = 15\n",
      "Epoch 1/10\n",
      "45/45 [==============================] - ETA: 0s - loss: 2.2028 - categorical_accuracy: 0.3929Source path =  /home/datasets/Project_data/val ; batch size = 15\n",
      "\n",
      "Epoch 00001: saving model to model_init_2023-09-0612_10_05.018026/model-00001-2.20285-0.39291-1.59688-0.25000.h5\n",
      "45/45 [==============================] - 90s 2s/step - loss: 2.2028 - categorical_accuracy: 0.3929 - val_loss: 1.5969 - val_categorical_accuracy: 0.2500 - lr: 0.0010\n",
      "Epoch 2/10\n",
      "45/45 [==============================] - ETA: 0s - loss: 1.0480 - categorical_accuracy: 0.5980\n",
      "Epoch 00002: saving model to model_init_2023-09-0612_10_05.018026/model-00002-1.04798-0.59804-3.04830-0.16000.h5\n",
      "45/45 [==============================] - 85s 2s/step - loss: 1.0480 - categorical_accuracy: 0.5980 - val_loss: 3.0483 - val_categorical_accuracy: 0.1600 - lr: 0.0010\n",
      "Epoch 3/10\n",
      "45/45 [==============================] - ETA: 0s - loss: 0.8191 - categorical_accuracy: 0.6855\n",
      "Epoch 00003: saving model to model_init_2023-09-0612_10_05.018026/model-00003-0.81907-0.68552-3.32027-0.33000.h5\n",
      "45/45 [==============================] - 70s 2s/step - loss: 0.8191 - categorical_accuracy: 0.6855 - val_loss: 3.3203 - val_categorical_accuracy: 0.3300 - lr: 0.0010\n",
      "Epoch 4/10\n",
      "45/45 [==============================] - ETA: 0s - loss: 0.6769 - categorical_accuracy: 0.7376\n",
      "Epoch 00004: saving model to model_init_2023-09-0612_10_05.018026/model-00004-0.67694-0.73756-4.63703-0.16000.h5\n",
      "45/45 [==============================] - 75s 2s/step - loss: 0.6769 - categorical_accuracy: 0.7376 - val_loss: 4.6370 - val_categorical_accuracy: 0.1600 - lr: 0.0010\n",
      "Epoch 5/10\n",
      "45/45 [==============================] - ETA: 0s - loss: 0.5456 - categorical_accuracy: 0.7873\n",
      "Epoch 00005: saving model to model_init_2023-09-0612_10_05.018026/model-00005-0.54562-0.78733-5.49812-0.21000.h5\n",
      "\n",
      "Epoch 00005: ReduceLROnPlateau reducing learning rate to 0.00020000000949949026.\n",
      "45/45 [==============================] - 69s 2s/step - loss: 0.5456 - categorical_accuracy: 0.7873 - val_loss: 5.4981 - val_categorical_accuracy: 0.2100 - lr: 0.0010\n",
      "Epoch 6/10\n",
      "45/45 [==============================] - ETA: 0s - loss: 0.4761 - categorical_accuracy: 0.8311\n",
      "Epoch 00006: saving model to model_init_2023-09-0612_10_05.018026/model-00006-0.47605-0.83107-5.18375-0.22000.h5\n",
      "45/45 [==============================] - 69s 2s/step - loss: 0.4761 - categorical_accuracy: 0.8311 - val_loss: 5.1838 - val_categorical_accuracy: 0.2200 - lr: 2.0000e-04\n",
      "Epoch 00006: early stopping\n"
     ]
    }
   ],
   "source": [
    "img_width = 100\n",
    "img_height = 100\n",
    "batch_size=15\n",
    "num_epochs = 10\n",
    "img_idx=[0,1,2,3,4,5,7,9,11,13,15,17,19,21,23,25,27,29]\n",
    "print(\"No of Frames Used\", len(img_idx))\n",
    "modelI = sample_model()\n",
    "modelI.summary()\n",
    "model9=train_model(modelI,batch_size, True)"
   ]
  },
  {
   "cell_type": "code",
   "execution_count": 29,
   "metadata": {},
   "outputs": [
    {
     "name": "stdout",
     "output_type": "stream",
     "text": [
      "dict_keys(['loss', 'categorical_accuracy', 'val_loss', 'val_categorical_accuracy', 'lr'])\n"
     ]
    },
    {
     "data": {
      "image/png": "[encoded data removed]",
      "text/plain": [
       "<Figure size 432x288 with 1 Axes>"
      ]
     },
     "metadata": {
      "needs_background": "light"
     },
     "output_type": "display_data"
    },
    {
     "data": {
      "image/png": "[encoded data removed]",
      "text/plain": [
       "<Figure size 432x288 with 1 Axes>"
      ]
     },
     "metadata": {
      "needs_background": "light"
     },
     "output_type": "display_data"
    }
   ],
   "source": [
    "plot_loss_accuracy(model9)"
   ]
  },
  {
   "cell_type": "markdown",
   "metadata": {},
   "source": [
    "**When image size reduced to 100x100, there is no improvement in the accuracy**"
   ]
  },
  {
   "cell_type": "markdown",
   "metadata": {},
   "source": [
    "## Model 10 - Similar to model4 with LR changed"
   ]
  },
  {
   "cell_type": "code",
   "execution_count": 34,
   "metadata": {},
   "outputs": [],
   "source": [
    "def sample_model_lr():\n",
    "  #write your model here\n",
    "  modellr = Sequential()\n",
    "  modellr.add(Conv3D(64,(3,3,3),padding='same',input_shape=(18,img_width, img_height,3)))\n",
    "  modellr.add(BatchNormalization())\n",
    "  modellr.add(Activation('relu'))\n",
    "  modellr.add(MaxPooling3D(pool_size=(2,2,1), strides=(2,2,1)))\n",
    "\n",
    "  modellr.add(Conv3D(128,(3,3,3),padding='same'))\n",
    "  modellr.add(BatchNormalization())\n",
    "  modellr.add(Activation('relu'))\n",
    "  #model.add(MaxPooling3D(pool_size=(2,2,2), strides=(2,2,1)))\n",
    "  modellr.add(MaxPooling3D(pool_size=(2, 2, 2), strides=(2, 2, 2)))\n",
    "\n",
    "  modellr.add(Conv3D(256,(3,3,3),padding='same'))\n",
    "  modellr.add(BatchNormalization())\n",
    "  modellr.add(Activation('relu'))\n",
    "  modellr.add(MaxPooling3D(pool_size=(2, 2,2), strides=(2,2,2)))\n",
    "\n",
    "  modellr.add(Conv3D(256,(3,3,3),padding='same'))\n",
    "  modellr.add(BatchNormalization())\n",
    "  modellr.add(Activation('relu'))\n",
    "  modellr.add(MaxPooling3D(pool_size=(2, 2,2), strides=(2,2,2)))\n",
    "\n",
    "  modellr.add(Flatten())\n",
    "  modellr.add(Dropout(0.25))\n",
    "  modellr.add(Dense(512, activation = 'relu'))\n",
    "  #model.add(Activation('elu'))\n",
    "  #modelA.add(Dropout(0.25))\n",
    "  #model.add(Dense(len(class_names)))\n",
    "  modellr.add(Dense(5,activation = 'softmax'))\n",
    "\n",
    "  optimiser = tf.keras.optimizers.SGD(learning_rate=0.01,momentum=0.9,nesterov=True)\n",
    "  #,weight_decay=None,clipnorm=None,clipvalue=None,global_clipnorm=None,use_ema=False,ema_momentum=0.99,ema_overwrite_frequency=None,jit_compile=True,) #write your optimizer\n",
    "  modellr.compile(optimizer=optimiser, loss='categorical_crossentropy', metrics=['categorical_accuracy'])\n",
    "  #print (modelA.summary())\n",
    "  return modellr"
   ]
  },
  {
   "cell_type": "code",
   "execution_count": 35,
   "metadata": {},
   "outputs": [
    {
     "name": "stdout",
     "output_type": "stream",
     "text": [
      "No of Frames Used 18\n",
      "Model: \"sequential_5\"\n",
      "_________________________________________________________________\n",
      " Layer (type)                Output Shape              Param #   \n",
      "=================================================================\n",
      " conv3d_20 (Conv3D)          (None, 18, 160, 160, 64)  5248      \n",
      "                                                                 \n",
      " batch_normalization_20 (Bat  (None, 18, 160, 160, 64)  256      \n",
      " chNormalization)                                                \n",
      "                                                                 \n",
      " activation_20 (Activation)  (None, 18, 160, 160, 64)  0         \n",
      "                                                                 \n",
      " max_pooling3d_20 (MaxPoolin  (None, 9, 80, 160, 64)   0         \n",
      " g3D)                                                            \n",
      "                                                                 \n",
      " conv3d_21 (Conv3D)          (None, 9, 80, 160, 128)   221312    \n",
      "                                                                 \n",
      " batch_normalization_21 (Bat  (None, 9, 80, 160, 128)  512       \n",
      " chNormalization)                                                \n",
      "                                                                 \n",
      " activation_21 (Activation)  (None, 9, 80, 160, 128)   0         \n",
      "                                                                 \n",
      " max_pooling3d_21 (MaxPoolin  (None, 4, 40, 80, 128)   0         \n",
      " g3D)                                                            \n",
      "                                                                 \n",
      " conv3d_22 (Conv3D)          (None, 4, 40, 80, 256)    884992    \n",
      "                                                                 \n",
      " batch_normalization_22 (Bat  (None, 4, 40, 80, 256)   1024      \n",
      " chNormalization)                                                \n",
      "                                                                 \n",
      " activation_22 (Activation)  (None, 4, 40, 80, 256)    0         \n",
      "                                                                 \n",
      " max_pooling3d_22 (MaxPoolin  (None, 2, 20, 40, 256)   0         \n",
      " g3D)                                                            \n",
      "                                                                 \n",
      " conv3d_23 (Conv3D)          (None, 2, 20, 40, 256)    1769728   \n",
      "                                                                 \n",
      " batch_normalization_23 (Bat  (None, 2, 20, 40, 256)   1024      \n",
      " chNormalization)                                                \n",
      "                                                                 \n",
      " activation_23 (Activation)  (None, 2, 20, 40, 256)    0         \n",
      "                                                                 \n",
      " max_pooling3d_23 (MaxPoolin  (None, 1, 10, 20, 256)   0         \n",
      " g3D)                                                            \n",
      "                                                                 \n",
      " flatten_5 (Flatten)         (None, 51200)             0         \n",
      "                                                                 \n",
      " dropout_6 (Dropout)         (None, 51200)             0         \n",
      "                                                                 \n",
      " dense_10 (Dense)            (None, 512)               26214912  \n",
      "                                                                 \n",
      " dense_11 (Dense)            (None, 5)                 2565      \n",
      "                                                                 \n",
      "=================================================================\n",
      "Total params: 29,101,573\n",
      "Trainable params: 29,100,165\n",
      "Non-trainable params: 1,408\n",
      "_________________________________________________________________\n",
      "Source path =  /home/datasets/Project_data/train ; batch size = 8\n",
      "Epoch 1/25\n",
      "83/83 [==============================] - ETA: 0s - loss: 5.8658 - categorical_accuracy: 0.2202Source path =  /home/datasets/Project_data/val ; batch size = 8\n",
      "\n",
      "Epoch 00001: saving model to model_init_2023-09-0612_25_56.238439/model-00001-5.86583-0.22021-1.63194-0.20000.h5\n",
      "83/83 [==============================] - 102s 1s/step - loss: 5.8658 - categorical_accuracy: 0.2202 - val_loss: 1.6319 - val_categorical_accuracy: 0.2000 - lr: 0.0100\n",
      "Epoch 2/25\n",
      "83/83 [==============================] - ETA: 0s - loss: 1.6145 - categorical_accuracy: 0.1900\n",
      "Epoch 00002: saving model to model_init_2023-09-0612_25_56.238439/model-00002-1.61454-0.19005-1.60875-0.19000.h5\n",
      "83/83 [==============================] - 109s 1s/step - loss: 1.6145 - categorical_accuracy: 0.1900 - val_loss: 1.6088 - val_categorical_accuracy: 0.1900 - lr: 0.0100\n",
      "Epoch 3/25\n",
      "83/83 [==============================] - ETA: 0s - loss: 1.6116 - categorical_accuracy: 0.1968\n",
      "Epoch 00003: saving model to model_init_2023-09-0612_25_56.238439/model-00003-1.61156-0.19683-1.61736-0.21000.h5\n",
      "83/83 [==============================] - 111s 1s/step - loss: 1.6116 - categorical_accuracy: 0.1968 - val_loss: 1.6174 - val_categorical_accuracy: 0.2100 - lr: 0.0100\n",
      "Epoch 4/25\n",
      "83/83 [==============================] - ETA: 0s - loss: 1.6113 - categorical_accuracy: 0.1802\n",
      "Epoch 00004: saving model to model_init_2023-09-0612_25_56.238439/model-00004-1.61135-0.18024-1.75951-0.23000.h5\n",
      "83/83 [==============================] - 108s 1s/step - loss: 1.6113 - categorical_accuracy: 0.1802 - val_loss: 1.7595 - val_categorical_accuracy: 0.2300 - lr: 0.0100\n",
      "Epoch 5/25\n",
      "83/83 [==============================] - ETA: 0s - loss: 1.6355 - categorical_accuracy: 0.2044\n",
      "Epoch 00005: saving model to model_init_2023-09-0612_25_56.238439/model-00005-1.63546-0.20437-1.62975-0.23000.h5\n",
      "83/83 [==============================] - 109s 1s/step - loss: 1.6355 - categorical_accuracy: 0.2044 - val_loss: 1.6297 - val_categorical_accuracy: 0.2300 - lr: 0.0100\n",
      "Epoch 6/25\n",
      "83/83 [==============================] - ETA: 0s - loss: 1.6088 - categorical_accuracy: 0.1885\n",
      "Epoch 00006: saving model to model_init_2023-09-0612_25_56.238439/model-00006-1.60884-0.18854-1.69416-0.21000.h5\n",
      "\n",
      "Epoch 00006: ReduceLROnPlateau reducing learning rate to 0.0019999999552965165.\n",
      "83/83 [==============================] - 109s 1s/step - loss: 1.6088 - categorical_accuracy: 0.1885 - val_loss: 1.6942 - val_categorical_accuracy: 0.2100 - lr: 0.0100\n",
      "Epoch 7/25\n",
      "83/83 [==============================] - ETA: 0s - loss: 1.6068 - categorical_accuracy: 0.1991\n",
      "Epoch 00007: saving model to model_init_2023-09-0612_25_56.238439/model-00007-1.60681-0.19910-1.68777-0.19000.h5\n",
      "83/83 [==============================] - 127s 2s/step - loss: 1.6068 - categorical_accuracy: 0.1991 - val_loss: 1.6878 - val_categorical_accuracy: 0.1900 - lr: 0.0020\n",
      "Epoch 00007: early stopping\n"
     ]
    }
   ],
   "source": [
    "img_width = 160\n",
    "img_height = 160\n",
    "batch_size=8\n",
    "num_epochs = 25\n",
    "img_idx=[0,1,3,5,7,9,11,13,15,17,18,19,21,23,25,26,27,29] #,2,3,4,5,6,7,8,9,10,11,12,13,14,15,16,17]\n",
    "print(\"No of Frames Used\", len(img_idx))\n",
    "modellr = sample_model_lr()\n",
    "#print(model)\n",
    "modellr.summary()\n",
    "model10=train_model(modellr,batch_size, True)"
   ]
  },
  {
   "cell_type": "code",
   "execution_count": 36,
   "metadata": {},
   "outputs": [
    {
     "name": "stdout",
     "output_type": "stream",
     "text": [
      "dict_keys(['loss', 'categorical_accuracy', 'val_loss', 'val_categorical_accuracy', 'lr'])\n"
     ]
    },
    {
     "data": {
      "image/png": "[encoded data removed]",
      "text/plain": [
       "<Figure size 432x288 with 1 Axes>"
      ]
     },
     "metadata": {
      "needs_background": "light"
     },
     "output_type": "display_data"
    },
    {
     "data": {
      "image/png": "[encoded data removed]",
      "text/plain": [
       "<Figure size 432x288 with 1 Axes>"
      ]
     },
     "metadata": {
      "needs_background": "light"
     },
     "output_type": "display_data"
    }
   ],
   "source": [
    "plot_loss_accuracy(model10)"
   ]
  },
  {
   "cell_type": "markdown",
   "metadata": {},
   "source": [
    "**With the updated LR rate, the model is underfitting**"
   ]
  },
  {
   "cell_type": "code",
   "execution_count": null,
   "metadata": {},
   "outputs": [],
   "source": []
  }
 ],
 "metadata": {
  "accelerator": "GPU",
  "colab": {
   "gpuType": "T4",
   "provenance": []
  },
  "kernelspec": {
   "display_name": "Python 3 (ipykernel)",
   "language": "python",
   "name": "python3"
  },
  "language_info": {
   "codemirror_mode": {
    "name": "ipython",
    "version": 3
   },
   "file_extension": ".py",
   "mimetype": "text/x-python",
   "name": "python",
   "nbconvert_exporter": "python",
   "pygments_lexer": "ipython3",
   "version": "3.9.13"
  }
 },
 "nbformat": 4,
 "nbformat_minor": 4
}
